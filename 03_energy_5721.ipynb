{
 "cells": [
  {
   "cell_type": "markdown",
   "metadata": {
    "colab_type": "text",
    "id": "sIaE-bWzww-n"
   },
   "source": [
    "# Biochem 5721 -- Energy"
   ]
  },
  {
   "cell_type": "markdown",
   "metadata": {
    "colab_type": "text",
    "id": "slzBN7Jvww-p"
   },
   "source": [
    "## Ensemble properties from averaging of large ensembles\n",
    "<img  align=\"right\" src=\"https://raw.githubusercontent.com/mpfoster/Biochem5721/master/images/kinesin-cartoon.png\" alt=\"Kinesin\" width=\"500\"/>\n",
    "\n",
    "* We saw in Video 1 that translocation of molecular motors on microtubules is directional, not random (e.g., [video of microtubules](https://www.youtube.com/embed/-6g5icw1Zos?start=6)). This suggests that motors translocate down an **energy gradient**. ATP hydrolysis is implicated as the responsible energy source, but in order to understand how ATP hydrolysis is converted into directional movement, we need to understand the energy released upon ATP hydrolysis, and how that relates to mechanical and directional work. \n"
   ]
  },
  {
   "cell_type": "markdown",
   "metadata": {},
   "source": [
    "# Concepts, Chapter 2: Energy is Conserved\n",
    "## Laws\n",
    "1. First Law: Energy is conserved\n",
    "2. Second Law: Entropy increases in spontaneous processes\n",
    "3. Third Law: Entropy approaches 0 as temperature approach 0 K\n",
    "\n",
    "## Systems\n",
    "<img align=\"right\" src=\"https://raw.githubusercontent.com/mpfoster/Biochem5721/master/images/02_01_Figure.jpg\" width=\"200\"/>\n",
    "\n",
    "1. Open: heat and matter can be exchanged with surroundings\n",
    "2. Closed: heat can be exchanged with surroundings\n",
    "3. Isolated: no exchange with surroundings\n",
    "\n",
    "## Conventions\n",
    "1. Work is + when done on the system by surroundings\n",
    "2. Work is - when done by the system on surroundings\n",
    "3. Heat is - when it flows from the system to the surroundings (exothermic)\n",
    "4. Heat is + when it flows into the system form the surroundings (endothermic)\n",
    "5. SI Units (e.g., Joule, instead of calorie)\n",
    "\n",
    "<img src=\"https://raw.githubusercontent.com/mpfoster/Biochem5721/master/images/02_Pg47_UnTable.jpg\" width=\"500\"/>\n",
    "\n",
    "## Terms\n",
    "1. Extensive properties: depend on size of system (e.g., mass, volume)\n",
    "2. Intensive properties: independent on size (e.g., Temperature, molecular weight)\n",
    "7. Temperature. _Kinetic Theory of Gases (Ch. 5)_ says it's defined by the mean square velocities $\\langle v^2 \\rangle$ of the atoms of mass $M$: $$Kinetic Energy = \\frac{1}{2}M \\langle v^2 \\rangle =\\frac{3}{2}RT$$ \n",
    "1. Energy $U$ (is conserved; can exchange heat $q$ and work $w$): $$\\Delta U = q + w$$\n",
    "4. Heat $q$: The flow of heat results in a temperature change. $$\\frac{dq}{dt} = C$$ \n",
    "8. Heat Capacity: the temperature response of a material to heat\n",
    "\n",
    "    <img align=\"right\" alt=\"Cv_noble_gases=1.5R\" src=\"https://raw.githubusercontent.com/mpfoster/Biochem5721/master/images/02_Pg24_UnTable_1.jpg\" width=\"150\"/>\n",
    "    1. For a mono-atomic gas, the heat constant volume molar heat capacity $C_{v,m} = \\frac{3}{2}R$\n",
    "\n",
    "    <img align=\"right\" alt=\"Cv_diatomic_gases=2.5R\" src=\"https://raw.githubusercontent.com/mpfoster/Biochem5721/master/images/02_Pg24_UnTable_2.jpg\" width=\"150\"/>    \n",
    "\n",
    "    1. For diatomic molecules, $C_{v,m}/R ~ 5/2$ due to two additional **rotational** degrees of freedom, as well as vibrations.\n",
    "    1. For more complex molecules, the molar heat capacity increases with degrees of freedom. \n",
    "<img align=\"right\" alt=\"Ala+Gly_Cp\" src=\"https://raw.githubusercontent.com/mpfoster/Biochem5721/master/images/02_10_Figure.jpg\" width=\"200\"/>\n",
    "    Alanine has a higher heat capacity than glycine.\n",
    "\n",
    "    For molecules with similar MW (Table 2.1), a higher $C_p$ is seen for more flexible molecules (higher heat capacity).\n",
    "<img alt=\"Tinoco Table 2.1\" src=\"https://raw.githubusercontent.com/mpfoster/Biochem5721/master/images/02_01_Table.jpg\" width=\"300\">\n",
    "\n",
    "\n",
    "1. Enthalpy: equal to heat at constant T, for a reversible process: $dH = dq_{p,rev}$\n",
    "For liquids, at constant pressure, $\\Delta H = nC_{p,molar}(T_2-T_1)$\n",
    "\n",
    "3. Work\n",
    "    1. Mechanical — force over distance (e.g., compression of a gas)\n",
    "    2. Chemical/electrical (TBD)\n",
    "5. Conservative process (work is converted to energy)\n",
    "6. Dissipative process (work is converted to heat)\n",
    "1. Adiabatic process: energy is transfered as work, not heat, as in compression of a gas cylinder; $dU = w; q = 0$\n",
    "1. Isothermal process: heat is transfered to the surroundings, $q≠0$\n",
    "\n",
    "\n",
    "## Properties of Water\n",
    "![](https://raw.githubusercontent.com/mpfoster/Biochem5721/master/images/02_02_Table.jpg)\n",
    "![](https://raw.githubusercontent.com/mpfoster/Biochem5721/master/images/02_17_Figure.jpg)<figcaption>Tinoco Fig. 2.17</figcaption>"
   ]
  }
 ],
 "metadata": {
  "colab": {
   "name": "02-distributions-5721.ipynb",
   "provenance": []
  },
  "kernelspec": {
   "display_name": "Python 3",
   "language": "python",
   "name": "python3"
  },
  "language_info": {
   "codemirror_mode": {
    "name": "ipython",
    "version": 3
   },
   "file_extension": ".py",
   "mimetype": "text/x-python",
   "name": "python",
   "nbconvert_exporter": "python",
   "pygments_lexer": "ipython3",
   "version": "3.6.8"
  }
 },
 "nbformat": 4,
 "nbformat_minor": 4
}
