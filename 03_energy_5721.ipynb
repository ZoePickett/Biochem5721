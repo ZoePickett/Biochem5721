{
  "nbformat": 4,
  "nbformat_minor": 0,
  "metadata": {
    "colab": {
      "name": "03_energy_5721.ipynb",
      "provenance": [],
      "include_colab_link": true
    },
    "kernelspec": {
      "display_name": "Python 3",
      "language": "python",
      "name": "python3"
    },
    "language_info": {
      "codemirror_mode": {
        "name": "ipython",
        "version": 3
      },
      "file_extension": ".py",
      "mimetype": "text/x-python",
      "name": "python",
      "nbconvert_exporter": "python",
      "pygments_lexer": "ipython3",
      "version": "3.6.8"
    }
  },
  "cells": [
    {
      "cell_type": "markdown",
      "metadata": {
        "id": "view-in-github",
        "colab_type": "text"
      },
      "source": [
        "<a href=\"https://colab.research.google.com/github/mpfoster/Biochem5721/blob/master/03_energy_5721.ipynb\" target=\"_parent\"><img src=\"https://colab.research.google.com/assets/colab-badge.svg\" alt=\"Open In Colab\"/></a>"
      ]
    },
    {
      "cell_type": "markdown",
      "metadata": {
        "colab_type": "text",
        "id": "sIaE-bWzww-n"
      },
      "source": [
        "# Biochem 5721 -- Energy"
      ]
    },
    {
      "cell_type": "markdown",
      "metadata": {
        "colab_type": "text",
        "id": "slzBN7Jvww-p"
      },
      "source": [
        "## Ensemble properties from averaging of large ensembles\n",
        "<img  align=\"right\" src=\"https://raw.githubusercontent.com/mpfoster/Biochem5721/master/images/kinesin-cartoon.png\" alt=\"Kinesin\" width=\"500\"/>\n",
        "\n",
        "* We saw in Video 1 that translocation of molecular motors on microtubules is directional, not random (e.g., [video of microtubules](https://www.youtube.com/embed/-6g5icw1Zos?start=6)). This suggests that motors translocate down an **energy gradient**. ATP hydrolysis is implicated as the responsible energy source, but in order to understand how ATP hydrolysis is converted into directional movement, we need to understand the energy released upon ATP hydrolysis, and how that relates to mechanical and directional work. \n"
      ]
    },
    {
      "cell_type": "markdown",
      "metadata": {
        "id": "8AoZEHvv8o_O",
        "colab_type": "text"
      },
      "source": [
        "# Concepts, Chapter 2: Energy is Conserved\n",
        "## Laws\n",
        "1. First Law: Energy is conserved\n",
        "2. Second Law: Entropy increases in spontaneous processes\n",
        "3. Third Law: Entropy approaches 0 as temperature approach 0 K\n",
        "\n",
        "## Systems\n",
        "<img align=\"right\" src=\"https://raw.githubusercontent.com/mpfoster/Biochem5721/master/images/02_01_Figure.jpg\" width=\"200\"/>\n",
        "\n",
        "1. Open: heat and matter can be exchanged with surroundings\n",
        "2. Closed: heat can be exchanged with surroundings\n",
        "3. Isolated: no exchange with surroundings\n",
        "\n",
        "## Conventions\n",
        "1. Work is + when done on the system by surroundings\n",
        "2. Work is - when done by the system on surroundings\n",
        "3. Heat is - when it flows from the system to the surroundings (exothermic)\n",
        "4. Heat is + when it flows into the system form the surroundings (endothermic)\n",
        "5. SI Units (e.g., Joule, instead of calorie)\n",
        "\n",
        "<img src=\"https://raw.githubusercontent.com/mpfoster/Biochem5721/master/images/02_Pg47_UnTable.jpg\" width=\"500\"/>\n",
        "\n",
        "## Terms\n",
        "1. Extensive properties: depend on size of system (e.g., mass, volume)\n",
        "2. Intensive properties: independent on size (e.g., Temperature, molecular weight)\n",
        "7. Temperature. _Kinetic Theory of Gases (Ch. 5)_ says it's defined by the mean square velocities $\\langle v^2 \\rangle$ of the atoms of mass $M$: $$Kinetic Energy = \\frac{1}{2}M \\langle v^2 \\rangle =\\frac{3}{2}RT$$ \n",
        "1. <img align=\"right\" src=\"https://raw.githubusercontent.com/mpfoster/Biochem5721/master/images/volume.jpg\" width=\"150\"/>Energy $U$ (is conserved; can exchange heat $q$ and work $w$): $$\\Delta U = q + w$$\n",
        "3. Work\n",
        "    1. Mechanical — force over distance (e.g., compression of a gas)\n",
        "    2. Chemical/electrical (TBD)\n",
        "4. Heat $q$: The flow of heat results in a temperature change. $$\\frac{dq}{dT} = C_p \\ (J\\ mol^{-1}\\ K^{-1})$$ \n",
        "8. Heat Capacity: the temperature response of a material to heat\n",
        "  1. <img align=\"right\" alt=\"Cv_noble_gases=1.5R\" src=\"https://raw.githubusercontent.com/mpfoster/Biochem5721/master/images/02_Pg24_UnTable_1.jpg\" width=\"150\"/> For a mono-atomic gas, the constant volume molar heat capacity $$C_{v,m} = \\frac{3}{2}R$$\n",
        "  This implies all heat goes into increasing the kinetic energy of the gas.\n",
        "  1. <img align=\"right\" alt=\"Cv_diatomic_gases=2.5R\" src=\"https://raw.githubusercontent.com/mpfoster/Biochem5721/master/images/02_Pg24_UnTable_2.jpg\" width=\"150\"/>For diatomic molecules, $C_{v,m}/R \\approx 5/2$ due to two additional **rotational** degrees of freedom, as well as vibrations.\n",
        "  <img src=\"https://raw.githubusercontent.com/mpfoster/Biochem5721/master/images/IMG_E7AA29B1A41A-1.jpeg\" width=\"300\"/>\n",
        "  1. For more complex molecules, the molar heat capacity increases with degrees of freedom. \n",
        "\n",
        "    * <img align=\"right\" alt=\"Ala+Gly_Cp\" src=\"https://raw.githubusercontent.com/mpfoster/Biochem5721/master/images/02_10_Figure.jpg\" width=\"200\"/><img align =\"right\" src=\"https://raw.githubusercontent.com/mpfoster/Biochem5721/master/images/ala%2Bgly.jpeg\" width=\"200\"/>Alanine has a higher heat capacity than glycine.\n",
        "\n",
        "    * For molecules with similar MW (Table 2.1), a higher $C_p$ is seen for more flexible molecules (higher heat capacity).\n",
        "\n",
        "    <img alt=\"Tinoco Table 2.1\" src=\"https://raw.githubusercontent.com/mpfoster/Biochem5721/master/images/02_01_Table.jpg\" width=\"300\">\n",
        "\n",
        "1. Enthalpy: \"Heat Content\" $H = U + pV$ is a State Variable\n",
        "  * Enthalpy change $dH = dq_{rev} + Vdp$ is equal to heat at constant _p_ for a reversible process: $dH = dq_{p,rev}$\n",
        "    * differentiating with respect to temperature T, yields the constant-pressure heat capacity $C_p$: \n",
        "$$\\left( \\frac{\\partial H}{\\partial T}\\right)_{p,rev} = \\left( \\frac{\\partial U}{\\partial T}\\right)_{p,rev} = C_p$$\n",
        "\n",
        "  * For liquids, at constant pressure, $\\Delta H = nC_{p,molar}(T_2-T_1)$\n",
        "\n",
        "5. Conservative process (work is converted to energy)\n",
        "6. Dissipative process (work is converted to heat)\n",
        "1. Adiabatic process: energy is transfered as work, not heat, as in compression of a gas cylinder; $dU = w; q = 0$\n",
        "1. Isothermal process: heat is transfered to the surroundings, $q≠0$\n",
        "\n",
        "\n"
      ]
    },
    {
      "cell_type": "markdown",
      "metadata": {
        "id": "lt39cn3C_XZG",
        "colab_type": "text"
      },
      "source": [
        "## Example 2.4\n",
        "What are the change in energy $\\Delta U$ and $\\Delta H$ for heating 1 mol of water(l) from 0°C, 1 bar to 100°C, 10 bar? Assume negligible volume change, and an average density of 985 kg m<sup>-3</sup>."
      ]
    },
    {
      "cell_type": "markdown",
      "metadata": {
        "id": "5DTcmI6XIDe8",
        "colab_type": "text"
      },
      "source": [
        "Start with quantifying the states, changes and parameters:"
      ]
    },
    {
      "cell_type": "code",
      "metadata": {
        "id": "r3xXqbloAErB",
        "colab_type": "code",
        "colab": {
          "base_uri": "https://localhost:8080/",
          "height": 34
        },
        "outputId": "5480eb44-1757-4d6f-9c82-8ef42cb99dee"
      },
      "source": [
        "n_mol = 1   # mol water\n",
        "dT = 100 - 0  #K  change in T\n",
        "dP = (10 -1)*1e5  # bar x Pa/bar change in pressure\n",
        "Cp = 75.4   # J/mol/K; constant pressure molar heat capacity of water\n",
        "rho_water = 985 # kg/m^3 == g/L\n",
        "MW = 18.02 # g/mol, or so. \n",
        "V = n_mol * MW / rho_water    # mol * g/mol ÷ g/L\n",
        "print('Volume of {0} mol water: {1:.3f} L'.format(n_mol, V))"
      ],
      "execution_count": 80,
      "outputs": [
        {
          "output_type": "stream",
          "text": [
            "Volume of 1 mol water: 0.018 L\n"
          ],
          "name": "stdout"
        }
      ]
    },
    {
      "cell_type": "markdown",
      "metadata": {
        "id": "HVk080ChIc3j",
        "colab_type": "text"
      },
      "source": [
        "Energy change = work + heat due to changes in T and P\n",
        "$$dU = dU_t + dU_p = q_t + w_t + q_p + q_w$$\n",
        "For a liquid, there's little compression, so no heat from compression, no work from compression, no work from pressure change:\n"
      ]
    },
    {
      "cell_type": "code",
      "metadata": {
        "id": "63bhnsfsIYme",
        "colab_type": "code",
        "colab": {
          "base_uri": "https://localhost:8080/",
          "height": 34
        },
        "outputId": "48ce4700-ee78-4b8f-82a8-5460ccdb8d7e"
      },
      "source": [
        "q_t = 0; w_t = 0; w_p = 0   # negligible heat and work from compression or expansion\n",
        "q_p = n_mol * Cp * dT   # amount of heat required to raise T by 9 deg\n",
        "dU = q_t + w_t + q_p + w_p  # heat and work from heating and compressing the water\n",
        "print(\"Energy change = %.0f J\" % dU)"
      ],
      "execution_count": 61,
      "outputs": [
        {
          "output_type": "stream",
          "text": [
            "Energy change = 7540 J\n"
          ],
          "name": "stdout"
        }
      ]
    },
    {
      "cell_type": "markdown",
      "metadata": {
        "id": "zsTiIpxDKQvu",
        "colab_type": "text"
      },
      "source": [
        "Enthalpy change is $\\Delta H = \\Delta U + \\Delta(pV)$ ; since $\\Delta V \\approxeq 0$, it's just $V \\Delta p$"
      ]
    },
    {
      "cell_type": "code",
      "metadata": {
        "id": "Ul9hhPkoKMI_",
        "colab_type": "code",
        "colab": {
          "base_uri": "https://localhost:8080/",
          "height": 52
        },
        "outputId": "c2c6bcf5-90b0-48b4-df30-f64dac2329b9"
      },
      "source": [
        "dpV = dP * V\n",
        "dH = dU + dpV\n",
        "#print(dP,dU,dH)\n",
        "print('Work from pressure change of {:.0f} Pa: {:.0f} J\\nEnthalpy change = {:.0f} J'.format(dP,dpV,dH))"
      ],
      "execution_count": 83,
      "outputs": [
        {
          "output_type": "stream",
          "text": [
            "Work from pressure change of 900000 Pa: 16465 J\n",
            "Enthalpy change = 24005 J\n"
          ],
          "name": "stdout"
        }
      ]
    },
    {
      "cell_type": "markdown",
      "metadata": {
        "id": "aF3TWDa5Lq6z",
        "colab_type": "text"
      },
      "source": [
        "Evidently, $\\Delta H \\approx \\Delta U$ comes mostly from added heat _q_.\n",
        "\n",
        "---"
      ]
    },
    {
      "cell_type": "markdown",
      "metadata": {
        "id": "ZWrk13s5M3TP",
        "colab_type": "text"
      },
      "source": [
        "## Phase Changes\n",
        "\n",
        "* Heat and work applied to matter changes their energy U. Heat and work can also induce *phase changes (transitions)*.\n",
        "<img src=\"https://raw.githubusercontent.com/mpfoster/Biochem5721/master/images/02_Pg36_UnTable.jpg\" />\n",
        "* Work for a reversible phase transition: $w_p = -p \\Delta V$\n",
        "* Heat absorbed at constant _p_ is just $q_p$\n",
        "\n",
        "### Phase change calculation\n",
        "* If we know the hear of vaporization of water at the boiling point, and the heat capacities of the liquid and gas phases, we can compute the heat of vaporization from water at an arbitrary temperature:\n",
        "<img src=\"https://raw.githubusercontent.com/mpfoster/Biochem5721/master/images/phase-cycle.png\"/>\n",
        "* This is achieved via:\n",
        "  1. Compute $\\Delta H$ of heating to boiling point: $C_p(l)(T_1-T_2)$\n",
        "  1. Compute $\\Delta H$ of vaporization at boiling point: $\\Delta_{vap}H°$\n",
        "  1. Compute $\\Delta H$ of cooling of the vapor $C_p(g)(T_2-T_1)$\n",
        "  1. Sum: $\\Delta_mH(T_2) = \\Delta_{vap}H° + \\left[C_p(g)-C_p(l)\\right](T_1-T_2)$\n",
        "  or, more generally:\n",
        "  $$\\Delta_{\\phi}(T_2) = \\Delta_{\\phi}H_m(T_1) + \\Delta_{\\phi}C_p \\Delta T$$\n",
        "\n",
        "### Example 2.5\n",
        "Using the data for vaporization of water at 100°C, check the numbers in Table 2.2 for anotehr temperature (e.g., 20°C)."
      ]
    },
    {
      "cell_type": "code",
      "metadata": {
        "id": "KCGfQDmGAEpZ",
        "colab_type": "code",
        "colab": {
          "base_uri": "https://localhost:8080/",
          "height": 34
        },
        "outputId": "7233920b-6cc7-418a-f881-c8ee6a76a3e3"
      },
      "source": [
        "# from table 2.2:\n",
        "dH_T1 = 40657  # J/mol\n",
        "dCp_vap = 36.5  # J/mol/K\n",
        "dCp_liquid = 75.4 # J/mol/K; we'll assume T-indep\n",
        "dT = 100-20 # K\n",
        "# so,\n",
        "dH_T2 = dH_T1 - (dCp_vap - dCp_liquid)*dT # J/mol\n",
        "dH_T2"
      ],
      "execution_count": 85,
      "outputs": [
        {
          "output_type": "execute_result",
          "data": {
            "text/plain": [
              "43769.0"
            ]
          },
          "metadata": {
            "tags": []
          },
          "execution_count": 85
        }
      ]
    },
    {
      "cell_type": "markdown",
      "metadata": {
        "id": "RtHzT-iYYEcj",
        "colab_type": "text"
      },
      "source": [
        "(The small temperature dependence of $C_p$ results in a small discrepancy)"
      ]
    },
    {
      "cell_type": "markdown",
      "metadata": {
        "id": "Ul4GR9P2UtQ5",
        "colab_type": "text"
      },
      "source": [
        "## Properties of Water\n",
        "![](https://raw.githubusercontent.com/mpfoster/Biochem5721/master/images/02_02_Table.jpg)\n",
        "\n",
        "## Heat Capacity of Water ($H_m - H_m° = C_p(T-T°)$\n",
        "![](https://raw.githubusercontent.com/mpfoster/Biochem5721/master/images/02_17_Figure.jpg)<figcaption>Tinoco Fig. 2.17</figcaption>\n",
        "* Note different slopes for each phase, and infinite slope at phase change (no dT w/ added heat).\n",
        "\n"
      ]
    }
  ]
}