{
  "nbformat": 4,
  "nbformat_minor": 0,
  "metadata": {
    "colab": {
      "name": "5721-survey-wordle.ipynb",
      "provenance": [],
      "authorship_tag": "ABX9TyPJ4HmVhQiPLIp4OVhIJzDS",
      "include_colab_link": true
    },
    "kernelspec": {
      "name": "python3",
      "display_name": "Python 3"
    }
  },
  "cells": [
    {
      "cell_type": "markdown",
      "metadata": {
        "id": "view-in-github",
        "colab_type": "text"
      },
      "source": [
        "<a href=\"https://colab.research.google.com/github/mpfoster/Biochem5721/blob/master/5721_survey_wordle.ipynb\" target=\"_parent\"><img src=\"https://colab.research.google.com/assets/colab-badge.svg\" alt=\"Open In Colab\"/></a>"
      ]
    },
    {
      "cell_type": "markdown",
      "metadata": {
        "id": "SfCSJvjWJvgO",
        "colab_type": "text"
      },
      "source": [
        "# Biochem 5721 Survey Wordle (WordCloud)\n",
        "\n",
        "![Sample Wordle](https://blogs.bend.k12.or.us/instructionaltechnology/files/2010/11/Picture-2.png)\n",
        "\n",
        "## Let's create our own Biochem 5721 Wordle using Python!\n",
        "\n",
        "First, please visit this [Google Form](https://forms.gle/qPWpS81dM4vmBD48A) to enter a word to describe your reaction to your first intro to Biochem 5721. The data from the Form will be populated into a [Google Sheet](https://docs.google.com/spreadsheets/d/1KFetLjDDqL9UYfKkY3nq2M6QcHv47uixwaIP4923klo/edit?usp=sharing) that will serve as the source for this Python program.\n",
        "\n",
        "The program requires use of some \"_non-standard_\" Python packages like [gspread](https://github.com/burnash/gspread) to interact with the Google Sheet, and [WordCloud](https://amueller.github.io/word_cloud/) to generate the plot."
      ]
    },
    {
      "cell_type": "markdown",
      "metadata": {
        "id": "ZfGdnmVEMN_a",
        "colab_type": "text"
      },
      "source": [
        "First, let's install/update the gspread package using [pip](https://pypi.org/project/pip/)"
      ]
    },
    {
      "cell_type": "code",
      "metadata": {
        "id": "oCG8m8cXtRSk",
        "colab_type": "code",
        "colab": {}
      },
      "source": [
        "# install/update the missing packages, using the pip\n",
        "# package manager https://pypi.org/project/pip/\n",
        "!pip install --upgrade gspread\n",
        "import gspread  # now that it's installed, we can import its modules"
      ],
      "execution_count": null,
      "outputs": []
    },
    {
      "cell_type": "markdown",
      "metadata": {
        "id": "dKJTtHtiF78t",
        "colab_type": "text"
      },
      "source": [
        "We import modules for plotting, time keeping and generating the graphics:"
      ]
    },
    {
      "cell_type": "code",
      "metadata": {
        "id": "WSYeZDMoEHkE",
        "colab_type": "code",
        "colab": {}
      },
      "source": [
        "import time # time-keeping\n",
        "import matplotlib.pyplot as plt # our plotting module\n",
        "from wordcloud import WordCloud # the word cloud builder tool\n",
        "# to enable in-line display of plots:\n",
        "%matplotlib inline  \n",
        "from IPython.display import clear_output  # so the plot is updated, not added to"
      ],
      "execution_count": null,
      "outputs": []
    },
    {
      "cell_type": "markdown",
      "metadata": {
        "id": "79uDAUBzPEgR",
        "colab_type": "text"
      },
      "source": [
        "Set up authorization to access the Google Sheet:"
      ]
    },
    {
      "cell_type": "code",
      "metadata": {
        "id": "jTkPnmZTsuXY",
        "colab_type": "code",
        "colab": {}
      },
      "source": [
        "# this is to allow colab to access the google sheet:\n",
        "from google.colab import auth\n",
        "auth.authenticate_user()\n",
        "\n",
        "# this is the module to interact with the google sheets:\n",
        "from oauth2client.client import GoogleCredentials\n",
        "# authorize user/instance\n",
        "gc = gspread.authorize(GoogleCredentials.get_application_default())"
      ],
      "execution_count": null,
      "outputs": []
    },
    {
      "cell_type": "markdown",
      "metadata": {
        "id": "oHoSAmHNGdEW",
        "colab_type": "text"
      },
      "source": [
        "Now, we set up an infinite loop, periodically reading data from the Google sheet and updating our Wordle. Tada!"
      ]
    },
    {
      "cell_type": "code",
      "metadata": {
        "id": "qvrAOshJF4__",
        "colab_type": "code",
        "colab": {}
      },
      "source": [
        "while True:   # loop until stopped\n",
        "  clear_output(wait=True)   # delete old plot\n",
        "# load the data:\n",
        "  sht = gc.open_by_key('1KFetLjDDqL9UYfKkY3nq2M6QcHv47uixwaIP4923klo')\n",
        "\n",
        "  words = \" \".join(sht.sheet1.col_values(2))\n",
        "  wordcloud = WordCloud().generate(words)   # Generate a word cloud image\n",
        "\n",
        "# Display the generated image the matplotlib way:\n",
        "  plt.imshow(wordcloud, interpolation='bilinear')\n",
        "  plt.axis(\"off\")     # ...because it would look weird with axis tics\n",
        "\n",
        "  plt.show()    #show the plot\n",
        "  time.sleep(3) # wait n seconds "
      ],
      "execution_count": null,
      "outputs": []
    }
  ]
}