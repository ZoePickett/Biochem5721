{
  "nbformat": 4,
  "nbformat_minor": 0,
  "metadata": {
    "colab": {
      "name": "02-distributions-5721.ipynb",
      "provenance": [],
      "include_colab_link": true
    },
    "kernelspec": {
      "display_name": "Python 3",
      "language": "python",
      "name": "python3"
    },
    "language_info": {
      "codemirror_mode": {
        "name": "ipython",
        "version": 3
      },
      "file_extension": ".py",
      "mimetype": "text/x-python",
      "name": "python",
      "nbconvert_exporter": "python",
      "pygments_lexer": "ipython3",
      "version": "3.6.8"
    }
  },
  "cells": [
    {
      "cell_type": "markdown",
      "metadata": {
        "id": "view-in-github",
        "colab_type": "text"
      },
      "source": [
        "<a href=\"https://colab.research.google.com/github/mpfoster/Biochem5721/blob/master/02-distributions_5721.ipynb\" target=\"_parent\"><img src=\"https://colab.research.google.com/assets/colab-badge.svg\" alt=\"Open In Colab\"/></a>"
      ]
    },
    {
      "cell_type": "markdown",
      "metadata": {
        "colab_type": "text",
        "id": "sIaE-bWzww-n"
      },
      "source": [
        "# Biochem 5721 -- Reading data and analyzing distributions"
      ]
    },
    {
      "cell_type": "markdown",
      "metadata": {
        "colab_type": "text",
        "id": "slzBN7Jvww-p"
      },
      "source": [
        "## Ensemble properties from averaging of large ensembles\n",
        "<img  align=\"right\" src=\"https://raw.githubusercontent.com/mpfoster/Biochem5721/master/images/kinesin-cartoon.png\" alt=\"Kinesin\" width=\"500\"/>\n",
        "\n",
        "* We saw in Video 1 that molecular motors walking on microtubules are responsible for morphological changes in a cell, and for enabling cell division. In the case of kinesin, we envision a dimeric molecule that makes stepping motions as ATP in the microtubule binding domains is hydrolyzed to ADP, dicusing a conformational change. \n",
        "* We also saw that single-molecule fluorecent methods could be used to visualize the movement of individual kinesin molecules on microtubules.\n",
        "* Important questions about molecular motor function include:\n",
        "  1. How fast can these motors travel?\n",
        "  1. Do they move by a _stepping_ motion, or more like an _inch-worm_?\n",
        "  1. How far do they move in a single stroke?\n",
        "  1. How efficient is the motor (how many steps per ATP hydrolyzed) per step or per nm?\n",
        "  1. How processive is it (how often does it fall off)?\n",
        "\n",
        "* Biochemists have long studied these and related questions using traditional _ensemble_ approaches, which measure the **average** overall behavior of _many, many_ molecules (~10<sup>-12</sup> mol ~10<sup>11</sup> molecules).\n",
        "* The accuracy and precision of those measurements depends on the sensitivity of the available technology, but also on intrinsict variability of the molecules themselves.\n"
      ]
    },
    {
      "cell_type": "markdown",
      "metadata": {
        "colab_type": "text",
        "id": "t2SNdL-m3grc"
      },
      "source": [
        "# Single molecule methods reveal variation within the ensemble.\n",
        "\n",
        "* Highly sensitive single molecule fluorescence techniques allow measurement of the position of indivisual molecules (esp. TIRF microscopy, Total Internal Reflectance). \n",
        "\n",
        "<img alt=\"Hand-over-hand & Inchworm Models\" src=\"https://raw.githubusercontent.com/mpfoster/Biochem5721/master/images/myosin-stepping.png\" width=\"800\"/>\n",
        "\n",
        "* In single molecule experiments using another motor, myosin, \n",
        "Yildiz *et al.*(2003) *Science* 300(5628):pp. 2061-2065, DOI: 10.1126/science.1084398 [https://science-sciencemag-org.proxy.lib.ohio-state.edu/content/300/5628/2061](https://science-sciencemag-org.proxy.lib.ohio-state.edu/content/300/5628/2061) achieved high spatial resolution by immobilizing actin substrates (for example by stretching it between two small particles), and then observing the position of a fluorescent tag attached to one of the myosin \"legs\". A representative movie can be found at [this link](https://raw.githubusercontent.com/mpfoster/Biochem5721/master/images/myosin-time-course.mov). (A video describing this and related research is here: https://www.youtube.com/watch?v=MKlyi4euq50) \n"
      ]
    },
    {
      "cell_type": "markdown",
      "metadata": {
        "colab_type": "text",
        "id": "-UNmI3Uc_c1n"
      },
      "source": [
        "\n",
        "<img align=\"right\" alt=\"Stepping Plot\" src=\"https://raw.githubusercontent.com/mpfoster/Biochem5721/master/images/myosin-step-plot.png\" width=\"600\"/>\n",
        "\n",
        "* By measuring the positions of individual molecules over time, the authors were able to measure the movements of individual myosin dimers (3 shown in the plot)\n",
        "* Step sizes were measured for 32 molecules for a total of 231 steps over ~100s\n",
        "* Step sizes were binned and plotted as a histogram (number of steps of a given length) \n",
        "\n",
        "### _Observations?_ \n",
        "1. Average step size ~74 nm; stdev = 5 nm\n",
        "2. Range of step sizes was ~30 nm (60-90)\n",
        "3. Distribution looks more or less Gaussian (normal distribution)\n",
        "\n",
        "### _Conclusions?_\n",
        "1. Step-size is \\~2x translocation (~37 nm), so we can conclude stepping\n",
        "2. Step size is not uniform, or of constant duration!\n",
        "3. Normal (Gaussian) distribution suggests a relatively simple thermodynamic explanation for the variation in step size"
      ]
    },
    {
      "cell_type": "markdown",
      "metadata": {
        "colab_type": "text",
        "id": "KnXWVGy1IfSS"
      },
      "source": [
        "## Statistical measures are important in experimental sciences\n",
        "* Measurements of molecular properties are subject to variability due to limitations of measurements, and variation of the phenomenon (both real and artificial).\n",
        "* This makes it critical to define the precision with which we _know_ something.\n",
        "* Most commonly, by computing the **mean**, $\\large \\bar{x} = \\frac{\\sum_{1}^{N}x}{N} $\n",
        "and (sample) **standard deviation** $\\large \\sigma = \\sqrt{\\frac{\\sum_{1}^{N}(x-\\bar{x})^2}{N-1}}$\n",
        "<img align=\"right\" alt=\"Bell Curve\" src=\"https://raw.githubusercontent.com/mpfoster/Biochem5721/master/images/normal-distrib.png\" width=\"400\"/>\n",
        "* These values are most commonly interpreted in the context of an *assumed* **Normal Distribution**\n",
        "$$\\large f(x) = \\frac{1}{\\sigma \\sqrt{2 \\pi}}e^{-\\frac{1}{2}(\\frac{x-\\bar{x}}{\\sigma})^2}$$\n",
        "where $\\bar{x}$ is the *mean* and most probable value, and the standard deviation $\\sigma$, describes the width of the distribution. \n",
        "  * 68% of the data are within $1\\sigma$, 95% within $2\\sigma$. So, differences $>2\\sigma$ are often considered significant"
      ]
    },
    {
      "cell_type": "markdown",
      "metadata": {
        "id": "-FraICN09MHO",
        "colab_type": "text"
      },
      "source": [
        "  * Lets compute these by hand for a small sample; for instance, the first three steps of the red annotated trace in Fig. 3, above. `list = [65.1, 83.5, 69.9]`"
      ]
    },
    {
      "cell_type": "code",
      "metadata": {
        "colab_type": "code",
        "id": "HjhsgJjHlJGO",
        "colab": {}
      },
      "source": [
        "# mean: sum the values and divide by the number of values:\n",
        "mean = <code_here>\n",
        "mean"
      ],
      "execution_count": null,
      "outputs": []
    },
    {
      "cell_type": "code",
      "metadata": {
        "colab_type": "code",
        "id": "M0Jm7XzElkAB",
        "colab": {}
      },
      "source": [
        "'''\n",
        " stdev: for each value, subtract from mean, square it, sum to the others, \n",
        " divide by N-1 and take the square root\n",
        "'''\n",
        "stdev = (((65.1-mean)**2 + (83.5-mean)**2 + (69.9-mean)**2)/2)**(1/2)    # compute it\n",
        "stdev   # print it"
      ],
      "execution_count": null,
      "outputs": []
    },
    {
      "cell_type": "markdown",
      "metadata": {
        "id": "onv9a5tB9ivW",
        "colab_type": "text"
      },
      "source": [
        "Instead of writing our own code, let's use Python libraries"
      ]
    },
    {
      "cell_type": "code",
      "metadata": {
        "colab_type": "code",
        "id": "Rcq5uxEDmeGb",
        "colab": {}
      },
      "source": [
        "# make a list containing our values:\n",
        "list = [ , ]  # square brackets, separate values by \",\"\n",
        "from scipy import stats\n",
        "stats.describe(list)"
      ],
      "execution_count": null,
      "outputs": []
    },
    {
      "cell_type": "code",
      "metadata": {
        "colab_type": "code",
        "id": "7ZN6houw9MHw",
        "colab": {}
      },
      "source": [
        "stats.tstd(list) # standard deviation, with option of trimming outliers"
      ],
      "execution_count": null,
      "outputs": []
    },
    {
      "cell_type": "markdown",
      "metadata": {
        "id": "k9M49skoDnpz",
        "colab_type": "text"
      },
      "source": [
        "Did we get the same results?"
      ]
    },
    {
      "cell_type": "markdown",
      "metadata": {
        "id": "2W6JwOzN9MH2",
        "colab_type": "text"
      },
      "source": [
        "## Functions\n",
        "Python is a programming language. \"Packages\" or \"libraries\" are a collection of code that extend the capabilities of basic Python. _Functions_ are compact bits of code to perform common operations. For example, we could use basic Python to write our own function to compute the mean of a list of variables:"
      ]
    },
    {
      "cell_type": "code",
      "metadata": {
        "id": "A6TDvHqz9MH4",
        "colab_type": "code",
        "colab": {}
      },
      "source": [
        "'''Here, we write our own function *mean* to compute the mean, by iterating over the \n",
        "values in the list\n",
        "'''\n",
        "def mean(a):\n",
        "    '''This is a function to compute the mean of numbers is a list. In practice, we'd probably \n",
        "    want to include some error checking so ensure all items in the list are numbers, but we'll \n",
        "    skip that here.\n",
        "    \n",
        "    We need to iterate over the items in the list, add them together, and divide by the number \n",
        "    of items in the list.\n",
        "    \n",
        "    Note code indenting within the function; indicates the code belongs within the code above\n",
        "    '''\n",
        "    running_sum = 0\n",
        "    index = 0\n",
        "    for i in a: # this loops over all items in list a\n",
        "        running_sum = running_sum + i # add element i \n",
        "        index = index + 1 # increment by 1\n",
        "    return running_sum/index # now we return the result, and stop indenting\n",
        "\n",
        "# list = [65.1, 83.5, 69.9] # define a list if not already defined\n",
        "mean(list)  # we could instead have print(mean(list)) to same effect"
      ],
      "execution_count": null,
      "outputs": []
    },
    {
      "cell_type": "markdown",
      "metadata": {
        "id": "OwBqJzMT9MIB",
        "colab_type": "text"
      },
      "source": [
        "We could alternatively use the built-in Python functions `sum` (sum of items in a list) and `len` (length of list):"
      ]
    },
    {
      "cell_type": "code",
      "metadata": {
        "id": "O68A_m9-9MID",
        "colab_type": "code",
        "colab": {}
      },
      "source": [
        "sum(list)/len(list)"
      ],
      "execution_count": null,
      "outputs": []
    },
    {
      "cell_type": "markdown",
      "metadata": {
        "id": "tBlIUDV79MII",
        "colab_type": "text"
      },
      "source": [
        "... or as a our function using these:"
      ]
    },
    {
      "cell_type": "code",
      "metadata": {
        "id": "8MRNEIIR9MIK",
        "colab_type": "code",
        "colab": {}
      },
      "source": [
        "def lmean(a):\n",
        "    '''function to compute mean of a list'''\n",
        "    return sum(a)/len(a)\n",
        "lmean(list)"
      ],
      "execution_count": null,
      "outputs": []
    },
    {
      "cell_type": "markdown",
      "metadata": {
        "id": "UikG3dG1EKnJ",
        "colab_type": "text"
      },
      "source": [
        "How about writing our own code to mulitply items in a list?"
      ]
    },
    {
      "cell_type": "code",
      "metadata": {
        "id": "1ke2cHTsEJlg",
        "colab_type": "code",
        "colab": {}
      },
      "source": [
        "def mult(a):\n",
        "  '''comments here. code below to add together items in a list'''\n",
        "  <code here> \n",
        "  return(<answer>)\n",
        "\n",
        "mult(list)"
      ],
      "execution_count": null,
      "outputs": []
    },
    {
      "cell_type": "markdown",
      "metadata": {
        "id": "rCcGaXaV9MIR",
        "colab_type": "text"
      },
      "source": [
        "Easy!"
      ]
    },
    {
      "cell_type": "markdown",
      "metadata": {
        "colab_type": "text",
        "id": "TMBmqaUgVtkE"
      },
      "source": [
        "## Let's simulate a normal distribution\n",
        "Yildiz *et al.* measured the step size of myosin motors from N = 231 samples and got a _mean_ step size of 73.75 nm and standard deviation of 5.25 nm. "
      ]
    },
    {
      "cell_type": "code",
      "metadata": {
        "colab_type": "code",
        "id": "tehN2ZVlZUfQ",
        "colab": {}
      },
      "source": [
        "# here we import the requisite libraries\n",
        "import matplotlib.pyplot as plt  # our *matplotlib* plotting libraries\n",
        "# this next line is \"magic\" so that plots show up inline in the notebook\n",
        "%matplotlib inline \n",
        "from scipy import stats # scientific computing and satistics libraries\n",
        "import seaborn as sns   # this is a nice package for plotting and includes stats tools\n",
        "plt.style.use('ggplot')   # gg style plots; optional"
      ],
      "execution_count": null,
      "outputs": []
    },
    {
      "cell_type": "code",
      "metadata": {
        "id": "vsCRq1mU9MIY",
        "colab_type": "code",
        "colab": {}
      },
      "source": [
        "# here, we simulate the data\n",
        "loc = 73.75; scale = 5.25 # these are the mean and stdev\n",
        "# define some x and y values to plot:\n",
        "x = np.linspace(60,90,100) # generate 100 linearly spaced values from 60 to 90\n",
        "y = stats.norm.pdf(x, loc=loc, scale=scale) # compute probability y values for each x\n",
        "plt.plot(x, y, 'r-', lw=5, alpha=0.6)\n",
        "plt.show()"
      ],
      "execution_count": null,
      "outputs": []
    },
    {
      "cell_type": "markdown",
      "metadata": {
        "colab_type": "text",
        "id": "X_xWOuS29MIe"
      },
      "source": [
        "Assuming we know the answer, we could test the effect of sample size on the accuracy of the measurement and analysis. For example, what if they made the minimum measurements (3)? Another 231? 10X?"
      ]
    },
    {
      "cell_type": "markdown",
      "metadata": {
        "id": "SL70uk5o9MIg",
        "colab_type": "text"
      },
      "source": [
        "We could select some random samples from the actual data, but since we \"know\" the mean and $\\sigma$ for the apparently normal distribution, we can _simulate_ randomly selecting samples from the normal distribution."
      ]
    },
    {
      "cell_type": "code",
      "metadata": {
        "colab_type": "code",
        "id": "CAsucfvwozZ9",
        "colab": {}
      },
      "source": [
        "# define parameters for the simulation:\n",
        "true_mu = 74; true_sigma = 5.5; nsamples = 3\n",
        "\n",
        "# Simulate the experimental data (samples from a normal distribution)\n",
        "samples = stats.norm.rvs(size=nsamples, scale=true_sigma, loc=true_mu)   \n",
        "print(\"Simulated samples:\", samples)  # optional (comment out for large nsamples)"
      ],
      "execution_count": null,
      "outputs": []
    },
    {
      "cell_type": "markdown",
      "metadata": {
        "id": "esTE2n_J9MIo",
        "colab_type": "text"
      },
      "source": [
        "Now that we've simulated measuring some datapoints from the true distribution, let's examine whether fitting these samples to the normal distribution function would give us the same result."
      ]
    },
    {
      "cell_type": "code",
      "metadata": {
        "colab_type": "code",
        "id": "wbNQFJYg9MIq",
        "colab": {}
      },
      "source": [
        "(mu, sigma) = stats.norm.fit(samples)   # fit the simulated data to get mu and sigma\n",
        "print(\"Input values: mean = {0:.2g}, STDEV = {1:.2g}\".format(true_mu, true_sigma))\n",
        "print(\"Fitted values: mean = {0:.2g}, STDEV = {1:.2g}\".format(mu, sigma))\n",
        "ax = sns.distplot(samples, bins=10, kde=False, fit=stats.norm)   # plot it\n",
        "ax.set_xlabel(\"Step Size /nm\"); ax.set_ylabel(\"Frequency\")\n",
        "plt.show()\n",
        "plt.rcParams[\"figure.figsize\"] = (8,3)    # adjust fig size if desired"
      ],
      "execution_count": null,
      "outputs": []
    },
    {
      "cell_type": "markdown",
      "metadata": {
        "id": "NYR3-o0M9MIw",
        "colab_type": "text"
      },
      "source": [
        "How do these compare to the \"true\" values? Run the cell again to select some new random values."
      ]
    },
    {
      "cell_type": "markdown",
      "metadata": {
        "colab_type": "text",
        "id": "Z-x7ywfQfyNB"
      },
      "source": [
        "What can we conclude about the effect of sample size?"
      ]
    },
    {
      "cell_type": "markdown",
      "metadata": {
        "colab_type": "text",
        "id": "_T807wBEww-t"
      },
      "source": [
        "## Chemical shift data\n",
        "\n",
        "<img  align=\"right\" src=\"http://www.bmrb.wisc.edu/ftp/pub/bmrb/metabolomics/entry_directories/bmse000050//bmse000050.png\" alt=\"Trp\" width=\"200\"/>\n",
        "\n",
        "* NMR chemical shifts are sensitive to the local chemical environment. For a tryptophan (Trp) residue in a protein, the chemical shift of the H indole proton H$\\epsilon$1 is generally well separated from other <sup>1</sup>H signals in the molecule and can serve as useful probes of protein foldedness, flexibility and ligand binding.\n",
        "\n",
        "* Chemical shift statistics in general are used to facilitate assignments and to determine whether the local environment is unusual. \n",
        "\n",
        "* Chemical shift data has been tabulated by the NMR community at the BMRB (_BioMagResBank_, Biological Magnetic Resonance Data Bank; http://www.bmrb.wisc.edu/). Because chemical shift depends on structure, and structure depends on energy (thermodynamics), one might expect the chemical shifts for a particular atom type to exhibit a Normal (Gaussian) distribution around some mean value. We will test that assumption in this Jupyter notebook.\n",
        "\n",
        "* <img align=\"right\" alt=\"BMRB data TrpHE1\" src=\"https://raw.githubusercontent.com/mpfoster/Biochem5721/master/images/bmrb-trp-he1.png\" width=\"400\"/> The protein dataset at the BMRB consists of a series of 'csv' (comma-separated-value) plain text files. For the Trp indole <sup>1</sup>H the file can be found at this URL: http://www.bmrb.wisc.edu/ftp/pub/bmrb/statistics/chem_shifts/full/devise/TRP_HE1_sel.txt. \n",
        "\n",
        "* The first number is the BMRB entry ID; the next to last number is the chemical shift of the H$\\epsilon$1 nucleus.\n",
        "\n",
        "* We will proceed by:\n",
        "  1. Importing the required tools/packages\n",
        "  1. Dowloading the data from the web in to a Python *data frame* using Pandas\n",
        "  1. Performing statistical analysis to determine Mean and STDEV"
      ]
    },
    {
      "cell_type": "markdown",
      "metadata": {
        "id": "S1soz4fA9MI0",
        "colab_type": "text"
      },
      "source": [
        "We will load and plot a histogram of the chemical shift data from the BMRB:\n",
        " http://www.bmrb.wisc.edu/ftp/pub/bmrb/statistics/chem_shifts/full/devise/TRP_HE1_sel.txt"
      ]
    },
    {
      "cell_type": "code",
      "metadata": {
        "colab_type": "code",
        "id": "QC2UHjqHRvAo",
        "colab": {}
      },
      "source": [
        "# import requirements:\n",
        "import pandas as pd   # to organize the data into a dataframe\n",
        "import matplotlib.pyplot as plt\n",
        "from scipy import stats\n",
        "import seaborn as sns # to facilitate fitting to normal distribution"
      ],
      "execution_count": null,
      "outputs": []
    },
    {
      "cell_type": "code",
      "metadata": {
        "colab_type": "code",
        "id": "nIxO3kSTSVns",
        "colab": {}
      },
      "source": [
        "# load data into a dataframe:\n",
        "data_url='http://www.bmrb.wisc.edu/ftp/pub/bmrb/statistics/chem_shifts/full/devise/TRP_HE1_sel.txt'\n",
        "df = pd.read_csv(data_url,    # pandas can read the csv file from the url\n",
        "    names=(\"id\",\"mol\",\"282\",\"resi\",\"resn\",\"name\",\"element\",\"shift\",\"n\")\n",
        "    )  # ^^ this adds column names for convenience\n",
        "df.head()"
      ],
      "execution_count": null,
      "outputs": []
    },
    {
      "cell_type": "code",
      "metadata": {
        "colab_type": "code",
        "id": "BrcAlOiBcCpx",
        "colab": {}
      },
      "source": [
        "df.describe()   # pandas has built in stats tools"
      ],
      "execution_count": null,
      "outputs": []
    },
    {
      "cell_type": "code",
      "metadata": {
        "colab_type": "code",
        "id": "YetODytfbuCg",
        "colab": {}
      },
      "source": [
        "df.hist('shift', bins=100)  # ... and pandas can do histograms!"
      ],
      "execution_count": null,
      "outputs": []
    },
    {
      "cell_type": "markdown",
      "metadata": {
        "id": "o8UxHHcg9MJK",
        "colab_type": "text"
      },
      "source": [
        "There are clearly outliers; let's limit our statistical analysis to 3 (or 4) $\\sigma$\n",
        "Replace `<low>` and `<high>` below with the ranges we want in our histogram"
      ]
    },
    {
      "cell_type": "code",
      "metadata": {
        "colab_type": "code",
        "id": "a4Rq-f4rSYF3",
        "colab": {}
      },
      "source": [
        "#low = <low>; high=<high>\n",
        "df2 = df.loc[(df['shift'] > low) & (df['shift'] < high)]\n",
        "samples = df2['shift'].tolist()\n",
        "df.hist('shift', range=(low,high), bins=100) \n",
        "plt.show()"
      ],
      "execution_count": null,
      "outputs": []
    },
    {
      "cell_type": "code",
      "metadata": {
        "colab_type": "code",
        "id": "BK_lpSU-lHdl",
        "colab": {}
      },
      "source": [
        "r = stats.describe(samples)\n",
        "r"
      ],
      "execution_count": null,
      "outputs": []
    },
    {
      "cell_type": "code",
      "metadata": {
        "colab_type": "code",
        "id": "h7gddHSFdngo",
        "colab": {}
      },
      "source": [
        "(mu, sigma) = stats.norm.fit(samples)   # compute mean and stdev\n",
        "print(\"Chemical Shift Mean: {0:.2f} ± {1:.2f} ppm\".format(mu, sigma))"
      ],
      "execution_count": null,
      "outputs": []
    },
    {
      "cell_type": "markdown",
      "metadata": {
        "colab_type": "text",
        "id": "Pc438YZNj0o_"
      },
      "source": [
        "## Does the data look like a \"Normal\" probability density distribution?"
      ]
    },
    {
      "cell_type": "code",
      "metadata": {
        "colab_type": "code",
        "id": "GXf6Y9D6fszx",
        "colab": {}
      },
      "source": [
        "ax = sns.distplot(samples, bins=100, kde=False, fit=stats.norm)\n",
        "ax.set_xlim([high,low])\n",
        "#ax.set_xlim([7,14])\n",
        "#plt.savefig('figure', dpi=150)"
      ],
      "execution_count": null,
      "outputs": []
    },
    {
      "cell_type": "code",
      "metadata": {
        "colab_type": "code",
        "id": "fwPk1jSWVNcq",
        "colab": {}
      },
      "source": [
        "# Maybe we try a different function? (Laplace)\n",
        "ax = sns.distplot(samples, bins=100, kde=False, fit=stats.laplace)\n",
        "ax.set_xlim([high,low])\n"
      ],
      "execution_count": null,
      "outputs": []
    },
    {
      "cell_type": "markdown",
      "metadata": {
        "id": "nwPyuit69MJm",
        "colab_type": "text"
      },
      "source": [
        "Better. Not quite accurate, but better."
      ]
    },
    {
      "cell_type": "markdown",
      "metadata": {
        "colab_type": "text",
        "id": "bt1tbR6Ydtwt"
      },
      "source": [
        "## *So, what can we conclude about the distributions of Trp HE1 shifts?*"
      ]
    }
  ]
}