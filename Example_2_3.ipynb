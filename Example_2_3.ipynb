{
  "nbformat": 4,
  "nbformat_minor": 0,
  "metadata": {
    "kernelspec": {
      "display_name": "Python 3",
      "language": "python",
      "name": "python3"
    },
    "language_info": {
      "codemirror_mode": {
        "name": "ipython",
        "version": 3
      },
      "file_extension": ".py",
      "mimetype": "text/x-python",
      "name": "python",
      "nbconvert_exporter": "python",
      "pygments_lexer": "ipython3",
      "version": "3.6.8"
    },
    "colab": {
      "name": "Example_2_3.ipynb",
      "provenance": [],
      "include_colab_link": true
    }
  },
  "cells": [
    {
      "cell_type": "markdown",
      "metadata": {
        "id": "view-in-github",
        "colab_type": "text"
      },
      "source": [
        "<a href=\"https://colab.research.google.com/github/mpfoster/Biochem5721/blob/master/Example_2_3.ipynb\" target=\"_parent\"><img src=\"https://colab.research.google.com/assets/colab-badge.svg\" alt=\"Open In Colab\"/></a>"
      ]
    },
    {
      "cell_type": "markdown",
      "metadata": {
        "id": "vPSBnYO9XCJx",
        "colab_type": "text"
      },
      "source": [
        "# Biochem 5721\n",
        "## Example solving a problem a Jupyter Notebook\n",
        "### Example 2.3 from Tinoco _et al._ \n",
        "Below are three different ways you might implement a solution in your Jupyter notebook.\n",
        "\n",
        "### Problem:\n",
        "Calculate the heat (in J) necessary to increase the temperature of 100.0 g of liquid water from 25.0°C to 75.0°C at ambient pressure (1 bar). The molar heat capacity of liquid water is 75.4 J mol<sup>-1</sup> K<sup>-1</sup> and is nearly independent of temperature.\n",
        "\n",
        "_(This is the end of the markdown cell. In the following code cell, we show our approach and solution.)_\n",
        "\n",
        "### Solution:"
      ]
    },
    {
      "cell_type": "code",
      "metadata": {
        "id": "9_wOD2wDXCJy",
        "colab_type": "code",
        "colab": {},
        "outputId": "0c95111a-2046-4996-f489-5fcc4a7bbe96"
      },
      "source": [
        "# Use either \"#\" at the beginning of each line...\n",
        "'''\n",
        "... or the triple single-quotes to enter comments -- i.e., writing what is not intended\n",
        "to be interpreted as code\n",
        "'''\n",
        "# Solution below\n",
        "#---------------\n",
        "# 100 g of water\n",
        "# heat capacity of water: 75.4 J/mol/K\n",
        "# temperature change: 25 to 75 C = 50 K\n",
        "# heat = (mol water) x (heat capacity) x (temperature change)\n",
        "# MW of water H2O is ~ 16+2 = 18 g/mol\n",
        "mol_water = 100 / 18. # g ÷ g/mol\n",
        "print(\"100 g of water is %5.2f mol\" % mol_water)\n",
        "heat = mol_water * 75.4 * 50. # J\n",
        "print(\"Heating 100 g of water by 50 degrees takes %.3g J\" % heat)"
      ],
      "execution_count": null,
      "outputs": [
        {
          "output_type": "stream",
          "text": [
            "100 g of water is  5.56 mol\n",
            "Heating 100 g of water by 50 degrees takes 2.09e+04 J\n"
          ],
          "name": "stdout"
        }
      ]
    },
    {
      "cell_type": "markdown",
      "metadata": {
        "id": "q1_Ay3P2Zm7d",
        "colab_type": "text"
      },
      "source": [
        "------"
      ]
    },
    {
      "cell_type": "code",
      "metadata": {
        "id": "yueiNjuxXCJ3",
        "colab_type": "code",
        "colab": {},
        "outputId": "2f26a8c6-6531-4a28-fd83-d783a2ab6c69"
      },
      "source": [
        "# Another possible way to code the solution:\n",
        "#---------------\n",
        "mass_water = 100 # g\n",
        "Cp_water =  75.4 # J/mol/K\n",
        "delta_T = 75 - 25 # C = K\n",
        "MW_water = 18  # g/mol\n",
        "heat = mass_water/MW_water * Cp_water * delta_T  # g/g/mol x J/mol•K x K\n",
        "print(\"The heat required to raise the temperature of {0:.1f} g \\\n",
        "of water by {1:.1f} K is {2:.0f} J\".format(mass_water,delta_T,heat))"
      ],
      "execution_count": null,
      "outputs": [
        {
          "output_type": "stream",
          "text": [
            "The heat required to raise the temperature of 100.0 g of water by 50.0 K is 20944 J\n"
          ],
          "name": "stdout"
        }
      ]
    },
    {
      "cell_type": "markdown",
      "metadata": {
        "id": "-o5NPTNhYLK_",
        "colab_type": "text"
      },
      "source": [
        "---\n",
        "But, what if you don't want to mess with formatted printing, or use multiple code cells, instead of one? That's fine too. Your solution could look like this:"
      ]
    },
    {
      "cell_type": "code",
      "metadata": {
        "id": "5aGb3qXLYeeS",
        "colab_type": "code",
        "colab": {
          "base_uri": "https://localhost:8080/",
          "height": 35
        },
        "outputId": "58171bc0-eb68-491e-cea1-c5f406808bc3"
      },
      "source": [
        "# MW water is 18 g/mol\n",
        "# so, 100 g of water is:\n",
        "100/18"
      ],
      "execution_count": 3,
      "outputs": [
        {
          "output_type": "execute_result",
          "data": {
            "text/plain": [
              "5.555555555555555"
            ]
          },
          "metadata": {
            "tags": []
          },
          "execution_count": 3
        }
      ]
    },
    {
      "cell_type": "code",
      "metadata": {
        "id": "KUeqK3dtZDXR",
        "colab_type": "code",
        "colab": {
          "base_uri": "https://localhost:8080/",
          "height": 35
        },
        "outputId": "3a3898dd-a747-4416-e60b-c17c069dd64d"
      },
      "source": [
        "# heat = mol x molar heat capacity (J/mol/K) x temperature change (K)\n",
        "# temperature change is 75-25 = 50 K\n",
        "5.55 * 75.4 * 50"
      ],
      "execution_count": 2,
      "outputs": [
        {
          "output_type": "execute_result",
          "data": {
            "text/plain": [
              "20923.5"
            ]
          },
          "metadata": {
            "tags": []
          },
          "execution_count": 2
        }
      ]
    },
    {
      "cell_type": "markdown",
      "metadata": {
        "id": "2g2bXtZcZX_z",
        "colab_type": "text"
      },
      "source": [
        "So, the answer is 20,923 J, or 20.9 kJ"
      ]
    },
    {
      "cell_type": "markdown",
      "metadata": {
        "id": "yt5myIySbDeq",
        "colab_type": "text"
      },
      "source": [
        "---\n",
        "One more simple example, using variable declarations:"
      ]
    },
    {
      "cell_type": "code",
      "metadata": {
        "id": "MJt7sImxbIv9",
        "colab_type": "code",
        "colab": {
          "base_uri": "https://localhost:8080/",
          "height": 35
        },
        "outputId": "a9988f1b-4454-4d73-c91f-2aebdc2c01e5"
      },
      "source": [
        "# MW water is 18 g/mol\n",
        "# so, 100 g of water is:\n",
        "mol = 100/18\n",
        "mol"
      ],
      "execution_count": 5,
      "outputs": [
        {
          "output_type": "execute_result",
          "data": {
            "text/plain": [
              "5.555555555555555"
            ]
          },
          "metadata": {
            "tags": []
          },
          "execution_count": 5
        }
      ]
    },
    {
      "cell_type": "code",
      "metadata": {
        "id": "TFMsHaDIbvEY",
        "colab_type": "code",
        "colab": {
          "base_uri": "https://localhost:8080/",
          "height": 35
        },
        "outputId": "5ff4c633-a0df-444d-90ef-35536cbc0ab2"
      },
      "source": [
        "# heat = mol x molar heat capacity (J/mol/K) x temperature change (K)\n",
        "# temperature change is 75-25 = 50 K\n",
        "dT = 75-25\n",
        "heat = mol * 75.4 * dT\n",
        "heat"
      ],
      "execution_count": 6,
      "outputs": [
        {
          "output_type": "execute_result",
          "data": {
            "text/plain": [
              "20944.444444444445"
            ]
          },
          "metadata": {
            "tags": []
          },
          "execution_count": 6
        }
      ]
    },
    {
      "cell_type": "markdown",
      "metadata": {
        "id": "Ig1imi2ib-pK",
        "colab_type": "text"
      },
      "source": [
        "So, the answer is 20.9 kJ"
      ]
    }
  ]
}