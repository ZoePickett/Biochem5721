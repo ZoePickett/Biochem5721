{
 "cells": [
  {
   "cell_type": "markdown",
   "metadata": {},
   "source": [
    "# Biochem 5721\n",
    "## Example solving a problem a Jupyter Notebook\n",
    "### Example 2.3 from Tinoco _et al._\n",
    "\n",
    "### Problem:\n",
    "Calculate the heat (in J) necessary to increase the temperature of 100.0 g of liquid water from 25.0°C to 75.0°C at ambient pressure (1 bar). The molar heat capacity of liquid water is 75.4 J mol<sup>-1</sup> K<sup>-1</sup> and is nearly independent of temperature.\n",
    "\n",
    "(This is the end of the mardown cell. In the following code cell, we show our apporach and solution.)\n",
    "\n",
    "### Solution:"
   ]
  },
  {
   "cell_type": "code",
   "execution_count": 38,
   "metadata": {},
   "outputs": [
    {
     "name": "stdout",
     "output_type": "stream",
     "text": [
      "100 g of water is  5.56 mol\n",
      "Heating 100 g of water by 50 degrees takes 2.09e+04 J\n"
     ]
    }
   ],
   "source": [
    "# Use either \"#\" at the beginning of each line...\n",
    "'''\n",
    "... or the triple single-quotes to enter comments -- i.e., writing what is not intended\n",
    "to be interpreted as code\n",
    "'''\n",
    "# Solution below\n",
    "#---------------\n",
    "# 100 g of water\n",
    "# heat capacity of water: 75.4 J/mol/K\n",
    "# temperature change: 25 to 75 C = 50 K\n",
    "# heat = (mol water) x (heat capacity) x (temperature change)\n",
    "# MW of water H2O is ~ 16+2 = 18 g/mol\n",
    "mol_water = 100 / 18. # g ÷ g/mol\n",
    "print(\"100 g of water is %5.2f mol\" % mol_water)\n",
    "heat = mol_water * 75.4 * 50. # J\n",
    "print(\"Heating 100 g of water by 50 degrees takes %.3g J\" % heat)"
   ]
  },
  {
   "cell_type": "code",
   "execution_count": 37,
   "metadata": {},
   "outputs": [
    {
     "name": "stdout",
     "output_type": "stream",
     "text": [
      "The heat required to raise the temperature of 100.0 g of water by 50.0 K is 2.09e+04 J\n"
     ]
    }
   ],
   "source": [
    "# Another possible way to code the solution:\n",
    "#---------------\n",
    "mass_water = 100 # g\n",
    "Cp_water =  75.4 # J/mol/K\n",
    "delta_T = 75 - 25 # C = K\n",
    "MW_water = 18  # g/mol\n",
    "heat = mass_water/MW_water * Cp_water * delta_T  # g/g/mol x J/mol•K x K\n",
    "print(\"The heat required to raise the temperature of {0:.1f} g \\\n",
    "of water by {1:.1f} K is {2:.3g} J\".format(mass_water,delta_T,heat))"
   ]
  }
 ],
 "metadata": {
  "kernelspec": {
   "display_name": "Python 3",
   "language": "python",
   "name": "python3"
  },
  "language_info": {
   "codemirror_mode": {
    "name": "ipython",
    "version": 3
   },
   "file_extension": ".py",
   "mimetype": "text/x-python",
   "name": "python",
   "nbconvert_exporter": "python",
   "pygments_lexer": "ipython3",
   "version": "3.6.8"
  }
 },
 "nbformat": 4,
 "nbformat_minor": 4
}
