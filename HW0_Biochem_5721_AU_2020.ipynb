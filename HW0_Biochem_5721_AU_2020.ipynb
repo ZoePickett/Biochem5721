{
  "nbformat": 4,
  "nbformat_minor": 0,
  "metadata": {
    "colab": {
      "name": "HW0-Biochem-5721-AU-2020",
      "provenance": [],
      "authorship_tag": "ABX9TyOe8PWZXoMDCOmIxenUHIG0",
      "include_colab_link": true
    },
    "kernelspec": {
      "name": "python3",
      "display_name": "Python 3"
    }
  },
  "cells": [
    {
      "cell_type": "markdown",
      "metadata": {
        "id": "view-in-github",
        "colab_type": "text"
      },
      "source": [
        "<a href=\"https://colab.research.google.com/github/mpfoster/Biochem5721/blob/master/HW0_Biochem_5721_AU_2020.ipynb\" target=\"_parent\"><img src=\"https://colab.research.google.com/assets/colab-badge.svg\" alt=\"Open In Colab\"/></a>"
      ]
    },
    {
      "cell_type": "markdown",
      "metadata": {
        "id": "XM6-vv66pxoW",
        "colab_type": "text"
      },
      "source": [
        "# Biochem 5721 AU 2020 \n",
        "## Assignment 0\n",
        "\n",
        "This is a Markdown cell in a [Jupyter](https://jupyterlab.readthedocs.io/) notebook. [Markdown](https://guides.github.com/features/mastering-markdown/) is an easy-to-type formatting language that is interpreted into HTML to generate nice formatting withought having to learn and type html code, like `<i>`*for italics*`</i>`.\n",
        "\n",
        "Create your first Jupyter notebooks (on [colab.research.google.com/](colab.research.google.com/) ). This will be easiest if you already have GMail accounts. Your work will be automatically saved to Google Drive. \n",
        "Include in your notebook:\n",
        "1. A markdown cell with:\n",
        "  * a heading\n",
        "  * a subheading\n",
        "  * a 2-column table with:\n",
        "    * your name\n",
        "    - your recitation section\n",
        "    - your name.# \n",
        "    * a sentence\n",
        "  * a numbered list\n",
        "1. A code cell with:\n",
        "  * a comment\n",
        "  * a mathematical operation \n",
        "  * a formatted print statement\n",
        "\n",
        "*(Feel free to use this sample notebook as a template, editing it to make it yours.)*\n",
        "\n",
        "\n",
        "# This is a heading\n",
        "## This is a subheading\n",
        "\n",
        "Text can be **bold**, __bolded__, *italics*, _italicized_, and formatted to look like `code`, as well as other options.\n",
        "\n",
        "Check out the [markdown cheat-sheet](https://www.markdownguide.org/cheat-sheet) for formatting tips."
      ]
    },
    {
      "cell_type": "code",
      "metadata": {
        "id": "VvQ4HUB9sU3u",
        "colab_type": "code",
        "colab": {}
      },
      "source": [
        "# This is a comment in code cell; it's preceded by \"#\"\n",
        "# code cells can be *run* by typing Ctrl/Cmd-Enter\n",
        "# this is a mathematical operation that results in a simple output:\n",
        "5+3"
      ],
      "execution_count": null,
      "outputs": []
    },
    {
      "cell_type": "code",
      "metadata": {
        "id": "3-VCL6V_EK_w",
        "colab_type": "code",
        "colab": {}
      },
      "source": [
        "# variables can be assigned a value:\n",
        "a = 5+3\n",
        "a**2  # this how we raise a number to an exponent in Python"
      ],
      "execution_count": null,
      "outputs": []
    },
    {
      "cell_type": "code",
      "metadata": {
        "id": "FoR2HwFhF5K8",
        "colab_type": "code",
        "colab": {}
      },
      "source": [
        "# Python only knows simple math operations, so this will generate an error:\n",
        "sqrt(a)"
      ],
      "execution_count": null,
      "outputs": []
    },
    {
      "cell_type": "code",
      "metadata": {
        "id": "sDeh8xoQGC8u",
        "colab_type": "code",
        "colab": {}
      },
      "source": [
        "# but this work:\n",
        "a**(1/2)"
      ],
      "execution_count": null,
      "outputs": []
    },
    {
      "cell_type": "markdown",
      "metadata": {
        "id": "J7Egupx6VnkT",
        "colab_type": "text"
      },
      "source": [
        "That's a lot of decimal places! Let's say we conly care about the first two (hundred's)\n",
        "we can format the output using a print statement:"
      ]
    },
    {
      "cell_type": "code",
      "metadata": {
        "id": "Rr97YmBzGLZc",
        "colab_type": "code",
        "colab": {}
      },
      "source": [
        "# formatted printing\n",
        "print(\"%5.2f\" % a**(1/2))   "
      ],
      "execution_count": null,
      "outputs": []
    },
    {
      "cell_type": "markdown",
      "metadata": {
        "id": "Bn7qByMpV12D",
        "colab_type": "text"
      },
      "source": [
        "`%5.2f` says to represent a number as a floating point decimal with 5 characters, including the point and two digits to the right of the decimal;\n",
        "rounding happens after the 2nd decimal.\n",
        "\n",
        "we can make it neater by assigning a new variable, and adding some text:"
      ]
    },
    {
      "cell_type": "code",
      "metadata": {
        "id": "Ot4NXBkyGxnF",
        "colab_type": "code",
        "colab": {}
      },
      "source": [
        "b = a**(1/2)\n",
        "print(\"%5.2f is the square root of %d\" % (b,a))"
      ],
      "execution_count": null,
      "outputs": []
    },
    {
      "cell_type": "code",
      "metadata": {
        "id": "_qZUCiojErRn",
        "colab_type": "code",
        "colab": {}
      },
      "source": [
        "# variables can be reassigned on the fly:\n",
        "a = a+1   # will add 1 to a, and assing the variable `a` to the new result\n",
        "# ^^ this generates no output\n",
        "a   # typing a variable on its own will cause Python to print its value "
      ],
      "execution_count": null,
      "outputs": []
    },
    {
      "cell_type": "code",
      "metadata": {
        "id": "T0ZmMUpvH5yD",
        "colab_type": "code",
        "colab": {}
      },
      "source": [
        "# to perform more complicated mathematical operations, we need to import \n",
        "# specialized modules, like *math*, or *numpy*\n",
        "import math\n",
        "math.sqrt(8)  # this is how we can specify an operation from the math module"
      ],
      "execution_count": null,
      "outputs": []
    },
    {
      "cell_type": "code",
      "metadata": {
        "id": "mtx_XLHqIMzk",
        "colab_type": "code",
        "colab": {}
      },
      "source": [
        "math.pi"
      ],
      "execution_count": null,
      "outputs": []
    },
    {
      "cell_type": "code",
      "metadata": {
        "id": "-8mui6nBIbl_",
        "colab_type": "code",
        "colab": {}
      },
      "source": [
        "import numpy as np\n",
        "np.pi"
      ],
      "execution_count": null,
      "outputs": []
    },
    {
      "cell_type": "code",
      "metadata": {
        "id": "WIZQXU2IQFYQ",
        "colab_type": "code",
        "colab": {}
      },
      "source": [
        "# C-like formatting statements:\n",
        "print(\"The volume of a sphere of radius _r_ of %d is 4/3πr^3 = %5.2f\" % (a, 4*np.pi*a**3/3))"
      ],
      "execution_count": null,
      "outputs": []
    },
    {
      "cell_type": "code",
      "metadata": {
        "id": "0ZxuFy_YTKEs",
        "colab_type": "code",
        "colab": {}
      },
      "source": [
        "# another way for formatting output in Python:\n",
        "print(\"The volume of a sphere of radius _r_ of {0:d} is 4/3πr^3 = {1:5.2f}\".format(a, 4*np.pi*a**3/3))"
      ],
      "execution_count": null,
      "outputs": []
    },
    {
      "cell_type": "markdown",
      "metadata": {
        "id": "gz1niQgpUQnj",
        "colab_type": "text"
      },
      "source": [
        "Markdown and `code` cells can be arranged interspersed and rearranged as desired. Code cells that depend on other cells, need to be executed in the **right order**!"
      ]
    }
  ]
}