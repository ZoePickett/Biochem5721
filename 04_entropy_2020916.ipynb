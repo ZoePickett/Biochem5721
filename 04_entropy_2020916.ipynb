{
 "cells": [
  {
   "cell_type": "markdown",
   "metadata": {
    "colab_type": "text",
    "id": "dXtKu2KZQI2l"
   },
   "source": [
    "Biochem 5721 AU20\n",
    "# Chapter 3 — Second Law: Entropy Increases\n",
    "\n",
    "# Statistical thermodynamic definition: $S = k \\ln W$\n",
    "- Entropy *S* is a *state variable* that quantifies system *disorder*\n",
    "- In an isolated system, changes *increase* entropy\n",
    "- In an open system, entropy can *decrease* with a larger *increase in the* entropy of the environment\n",
    "- Gibbs free energy $G = H - TS$ is another state function that determines whether a process will occur *spontaneously*; but not how rapidly it happens\n",
    "\n"
   ]
  },
  {
   "cell_type": "markdown",
   "metadata": {
    "colab_type": "text",
    "id": "0EUIBI2j40v7"
   },
   "source": [
    "# Recap of Ch2: Energy Is Conserved\n",
    "\n",
    "## A system can exchange energy with its surroundings as ***heat*** **or** ***work***\n",
    "\n",
    "<!--![TMOL 6.4. Energy exchange between the system and the surroundings can take place as heat (A) or work (B). Work is (-) when done by the system; heat is (+) when absorbed from the surroundings](https://raw.githubusercontent.com/mpfoster/Biochem5721/master/images/tmol6-4.png)--><img src=\"https://raw.githubusercontent.com/mpfoster/Biochem5721/master/images/tmol6-4.png\" width=\"400\"/><i><figcaption>TMOL 6.4. Energy exchange between the system and the surroundings can take place as heat (A) or work (B). Work is (-) when done by the system; heat is (+) when absorbed from the surroundings</figcaption></i>\n",
    "\n",
    "**A piston of ideal gas is a convenient way to visualize exchange of heat and energy**\n",
    "\n",
    "<!--![TMOL Fig. 6.5. In this example the system expands against an external pressure, and loses energy as it expands. Hence, a negative sign is associated with the work done ($-P_{EXT}dV$).figure65](https://raw.githubusercontent.com/mpfoster/Biochem5721/master/images/tmol6-5.jpeg)--><img src=\"https://raw.githubusercontent.com/mpfoster/Biochem5721/master/images/tmol6-5.jpeg\" width=\"400\"/><i><figcaption>TMOL Fig. 6.5. In this example the system expands against an external pressure, and loses energy as it expands. Hence, a negative sign is associated with the work done ($-P_{EXT}dV$)</figcaption></i>\n",
    "\n",
    "\n",
    "* The **First Law** says that Energy of the Universe is conserved\n",
    "$$dU_{total} = dU_{system} + dU_{surroundings} = 0$$\n",
    "    \n",
    "$$dU_{system} + - dU_{surroundings}$$\n",
    "\n",
    "* The change in energy of the system of determined by the about of heat transferred and work done\n",
    "\n",
    "$$dU = q + w$$\n",
    "\n",
    "* If **no work** is done during the process, then the change in the energy of the system is equal to the heat transferred\n",
    "\n",
    "$$dU = q$$\n",
    "\n",
    "* In an isolated system (no heat exchange), energy can only be exchanged through work\n",
    "\n",
    "$$dU = w$$\n",
    "\n",
    "## Common scenarios\n",
    "**Constant Pressure Work**\n",
    "\n",
    "<img src=\"https://raw.githubusercontent.com/mpfoster/Biochem5721/master/images/tmol6-6a.png\" width=\"500\" /><figcaption><i>TMOL 6.6. Under conditions of constant external pressure, reactions or processes that change the volume of the system (ΔV) cause the system to do mechanical work. In this case, converting solid A to gaseous B increases the volume.</i></figcaption>\n",
    "\n",
    "\n",
    "**Constant Volume Heat Transfer**\n",
    "\n",
    "<img src=\"https://raw.githubusercontent.com/mpfoster/Biochem5721/master/images/tmol6-6b.png\" width=\"500\"/><i><figcaption>TMOL 6.6. For a process occurring under conditions of constant volume, the heat transferred to the system is  given by the change in energy, U, of the system.</figcaption></i>\n",
    "\n",
    "\n",
    "**Constant Pressure Heat Transfer = Enthalpy Change**\n",
    "\n",
    "<img src=\"https://raw.githubusercontent.com/mpfoster/Biochem5721/master/images/tmol6-6c.png\" width=\"500\"/><i><figcaption>TMOL 6.6. For a process occurring under constant pressure, the heat transferred is given by the change in enthalpy, H, of the system.</figcaption></i>\n",
    "\n",
    "Under constant pressure, heat added to the system can increase the internal energy (temperature), and/or generate expansion work:\n",
    "$$q = dU + w = dU \\underbrace{-\\left( -p_{ext}dV \\right)}_{\\text{heat converted}\\\\ \\text{to work}}$$\n",
    "\n",
    "This brings us to our definition of *Enthalpy*:\n",
    "$$H = U + pV$$\n",
    "and enthalpy change\n",
    "$$dH = dU + dpV + pdV$$\n",
    "which, under typical biochemical conditions of standard pressure, liquids simplifies to\n",
    "$$dH = dU = q \\qquad \\text{(at constant pressure)}$$\n",
    "i.e., the enthalpy is the heat content of the system.\n",
    "\n",
    "---"
   ]
  },
  {
   "cell_type": "markdown",
   "metadata": {
    "colab_type": "text",
    "id": "oBAjHtXMVNyO"
   },
   "source": [
    "# Heat Capacity\n",
    "The heat capacity defines the amount of heat required to increase the temperature of a substance by 1 degree.\n",
    "\n",
    "<img src=\"https://raw.githubusercontent.com/mpfoster/Biochem5721/master/images/tmol6-10.png\" width=\"400\"/><i><figcaption>TMOL 6.10 Heating a system under conditions of constant volume (left) or pressure (right).</figcaption></i>\n",
    "\n",
    "## Constant Volume, $C_V$\n",
    "For an ideal, monoatomic gas, the internal energy\n",
    "$$U=\\frac{3}{2}RT$$\n",
    "so the constant-volume heat capacity is directly direlated to the temperature change:\n",
    "$$C_V = \\frac{\\partial}{\\partial T}\\left(\\frac{3}{2}R \\right) = \\frac{3}{2}R$$\n",
    "That is, all heat goes into raising the temperature (increasing the kientic energy) of the system.\n",
    "$$q = \\int^{T_2}_{T_1}C_V dT = C_V(T_2-T_1)$$\n",
    "We can also express this as the temperature dependence of the internal energy *U*:\n",
    "$$dU = C_V dT$$\n",
    "\n",
    "## Constant Pressure, $C_p$\n",
    "At constant pressure, some of the added heat is consumed for expansion work. By definition, $C_p$ is the amount of heat required to increase the temperature is equivalent to the enthalpy change:\n",
    "$$C_p = \\left( \\frac{\\partial H}{\\partial T} \\right)_p$$\n",
    "equivalently,\n",
    "$$dH = C_p dT$$\n",
    "\n",
    "### Now we compare the constant-volume and constant-pressure heat capacities:\n",
    "$$(C_p-C_v)dT = dH-dU$$\n",
    "With\n",
    "$$H = U+pV = U + RT$$\n",
    "$$dH - dU = RdT$$\n",
    "resulting in the finding that the difference is\n",
    "$$C_p - C_V = R$$\n",
    "This shows that when heat is added under constant-pressure conditions, some of\n",
    "the heat goes into the expansion work done by the gas, so not all of it is available to increase its  temperature.\n",
    "\n",
    "## Heat Capacity of Macromolecule Solutions\n",
    "The heat capacity of liquid water changes more or less linearly with temperature, with a molar heat capacity of ~75 J/mol•K. In a dilute macromolecular solution (e.g., 1e-4 M protein), the heat capacity of the solution approximates that of water. However, as the temperature is increased a peak in the heat capacity is observed.\n",
    "<!--![TMOL 6.11 Heat capacity of a protein solution as a function of temperature]--><img src=\"https://raw.githubusercontent.com/mpfoster/Biochem5721/master/images/tmol6-11.png\" width=\"400\"/><i><figcaption>TMOL 6.11 Heat capacity of a protein solution as a function of temperature.</figcaption></i>\n",
    "This peak is analogous to the observation of a phase transition when measuring the heat capacity of pure water. At the *melting temperature* of the protein (macromolecule), some of the input heat is used to unfold the protein, thereby increasing the $C_p$ of the solution. At constant pressure, the integral of the $C_p$ curve gives the enthalpy of denaturation (the amount of heat required to unfold the protein).\n",
    "$$\\Delta H = \\int^{T_2}_{T_1} C_p dT$$\n",
    "(We will examine this behavior in more detail later.)\n",
    "\n",
    "---\n"
   ]
  },
  {
   "cell_type": "markdown",
   "metadata": {
    "colab_type": "text",
    "id": "wQaCZGhW4HlC"
   },
   "source": [
    "# Spontaneous Change\n",
    "Consider a potential reaction in which the energy of the products is lower than that of the reactants:\n",
    "$$A+B \\rightarrow C+D \\qquad \\Delta U < 0 \\quad \\text{(energy released)}$$\n",
    "Is this sufficient to determine spontanaeity? \n",
    "\n",
    "Consider some intuitive macroscopic examples. Would we expect the system to relax spontaneously? Does the spontaneous change follow a decrease in energy?\n",
    "\n",
    "<img src=\"https://raw.githubusercontent.com/mpfoster/Biochem5721/master/images/tmol6-7.png\" width=\"700\"/>\n",
    "\n",
    "Or, how about diffusion?\n",
    "\n",
    "<img src=\"https://raw.githubusercontent.com/mpfoster/Biochem5721/master/images/tmol6-8.png\" width=\"400\"/><i> <figcaption>TMOL 6.8 Spontaneous diffusion\n",
    "of a dye in water. When a drop of a\n",
    "purple dye is introduced into a beaker\n",
    "of water, the dye spreads throughout\n",
    "the beaker. </figcaption></i>\n",
    "\n",
    "Intuition tells us that the dye will diffuse throughout the beaker -- but is this associated with a decrease in the energy _U_ of the system?\n",
    "\n",
    "### Consider Two Paths for Expansion of a Gas: *Adiabatic*, and *Isothermal*\n",
    "\n",
    "<img src=\"https://raw.githubusercontent.com/mpfoster/Biochem5721/master/images/tmol6-9a.png\" width=\"400\"/><i><figcaption>TMOL 6.9. After compression, the system is characterized by pressure $P_1$ and temperature $T_1$.</figcaption></i>Suppose we compress a gas, by applying a pressure $P_{ext}$:\n",
    "\n",
    "(Remember that the internal energy of an ideal monoatomic gas is defined by its kinetic energy, which depends only on temperature, $3/2 RT$)\n",
    "\n",
    "<img src=\"https://raw.githubusercontent.com/mpfoster/Biochem5721/master/images/tmol6-9b.png\" width=\"600\"/><i><figcaption>TMOL 6.9. Adiabatic expansion of a gas.</figcaption></i> **First**, we consider what happens if we release the pegs and allow the gas to expand while keeping the system *isolated* from surroundings so that there is no heat transfer $q$.\n",
    "\n",
    "Release of the pegs results in a _spontaneous decrease_ in system temperature, and therefore system energy, since $dU = q + w$ and the system is doing work $w$, while no heat is allowed to flow into or out of the system ($q=0$). So, spontaneous expansion occurs in the direction of lower energy $U$. \n",
    "\n",
    "$$dU < 0$$ (Energy is lost in the form of work) \n",
    "\n",
    "**Next**, we place the cylinder in a large water bath such that heat can exchange with the system.\n",
    "<img src=\"https://raw.githubusercontent.com/mpfoster/Biochem5721/master/images/tmol6-9c.png\" width=\"600\"/><i><figcaption>TMOL 6.9. Isothermal expansion of a gas.</figcaption></i>\n",
    "\n",
    "As in the adiabatic case, the gas will expand until the internal pressure matches the external pressure. However, heat *q* will *flow into* the system ($q>0$) such that T remains constant (i.e., *isothermal*). What is the change in energy for the system?\n",
    "\n",
    "Since U depends only on temperature, and the temperature has not changed, $dU = 0$, and yet the system has done work. From the *First Law*, \n",
    "$$dU = q + w =0$$\n",
    "$$q = -w$$\n",
    "So, heat and work are exchanged, the system energy *U* has not changed, and yet the expansion is spontaneous. So, *dU* is insufficient to define spontenaeity of reactions.\n",
    "\n",
    "**The missing state variable is the entropy  _S_**\n",
    "\n"
   ]
  },
  {
   "cell_type": "markdown",
   "metadata": {
    "colab_type": "text",
    "id": "_GytVkIzkACQ"
   },
   "source": [
    "# Reversible Work\n",
    "The thermodynamic definition of entropy arose from the study of steam engines in the 1900s -- The Carnot Cycle. Before delving into the Carnot Cycle, let's revisit the concept and importance of reversibility in developing thermodynamic theory. The key to reversibility is that changes follow microscopic steps that involve very small changes in volume and pressure, such that the system is very near equilibrium.\n",
    "\n",
    "Consider two *isothermal* expansion scenarios for a compressed gas:\n",
    "\n",
    "<img align=\"right\" src=\"https://raw.githubusercontent.com/mpfoster/Biochem5721/master/images/tmol7-27.png\" width=\"400\"/><i><figcaption>TMOL 7.27. Work is maximized in a reversible expansion (B), compared to an irreversible one (C).</figcaption></i>\n",
    "\n",
    "In scenario (*I*) expansion occcurs through a series of mircroscopic steps in which the internal pressure is just slightly higher that the external pressure $P_{EXT} = P_{INT} -dP$, allowing gradual expansion and maximal work. The infinitessimal work done for each step is:\n",
    "$$dw=-P_{EXT}dV = -\\left(P_{INT}-dP \\right)dV$$\n",
    "Over the course of the expansion, and ignoring the very small contributions from the $dPdV$ terms, we get:\n",
    "$$w_{rev} = -\\int^{V_2}_{V_1}P_{INT}dV$$\n",
    "and, with $P_{INT} = RT/V$, we arrive at \n",
    "$$w_{rev} = -\\int^{V_2}_{V_1}\\frac{RT}{V}dV = -RT\\ln\\frac{V_2}{V_1}$$\n",
    "Recalling that in isothermal expansion, $dU =0$, so $q_{rev} = -w_{rev}$, we arrive at the following relation:\n",
    "$$\\frac{q_{rev}}{T}=R\\ln\\frac{V_2}{V_1} = \\Delta S$$\n",
    "This definition describes a relation between reversible heat *q*, work *w*, and volume change $\\ln\\frac{V_2}{V_1}$ shows that the work done in an isothermal expansion is not due to change in energy *U*, but rather a change in entropy *S*:\n",
    "$$w_{rev} = -q_{rev} = -T\\Delta S$$\n",
    "    \n",
    "In scenario (*II*) of rapid expansion, expansion cannot be considered to be reversible, and $dq_{irrev} ≠ T\\Delta S$ "
   ]
  },
  {
   "cell_type": "markdown",
   "metadata": {
    "colab_type": "text",
    "id": "T4iHPZ0WZtya"
   },
   "source": [
    "### Example 3.1\n",
    "\n",
    "**_(In breakout rooms)_**"
   ]
  },
  {
   "cell_type": "markdown",
   "metadata": {
    "colab_type": "text",
    "id": "ZWUdT3ccuF6t"
   },
   "source": [
    "# The Carnot Cycle\n",
    "Carnot imagined a heat engine that undergoes an idealized 4-step thermodynamic cycle, which begins and ends at the same place. A particular interest at the time was whether a perpetual motion engine was possible. Carnot showed that energy is irretrievably lost at each cycle in the form of heat, thus an perpetual motion engine is not allowed by thermodynamics.\n",
    "\n",
    "<img src=\"https://raw.githubusercontent.com/mpfoster/Biochem5721/master/images/03_02_Figure.jpg\"/> <i><figcaption>Fig 3.2 Carnot Cycle heat engine</figcaption></i>\n",
    "\n",
    "Steps *I* and *III* of the cycle correspond to isothermal expansion or compression of an ideal gas at $T_{hot}$ and $T_{cold}$, respectively, exchanging heat with the surroundings.  In steps *II* and *IV*, the gas is allowed to expand and compress adiabatically, with no heat exchange.\n",
    "\n",
    "<img align=\"right\" src=\"https://raw.githubusercontent.com/mpfoster/Biochem5721/master/images/03_04_FigureA.jpg\" width=\"200\"/><i><figcaption>Fig 3.2 Carnot Cycle heat engine</figcaption></i> The Carnot Cycle is often visualized graphically by plotting the *pV* path of the engine as it progresses from $T_{hot}$ to $T_{cold}$ and back, through steps I, II, III, IV.\n",
    "\n",
    "As isothermal processes, steps I and III follow the ideal gas law path $dp=\\frac{nRT}{dV}$; since U depends only on temperature, and the steps are isothermal, $\\Delta U = 0 = q +w$, $q = -w$ and *w* can be evaluated from the area under the integral; e.g., \n",
    "$$-q_1 = w_1 = -\\int^{V_2}_{V_1} p dV = -nRT \\ln \\frac{V_2}{V_1}$$\n",
    "\n",
    "For the adiabatic expansion/compression steps II and IV, heat flow $q=0$, and $$\\Delta U = w = C_v\\left(T_{cold}-T_{hot}\\right). $$\n",
    "\n",
    "After a few substitutions, including recognition that\n",
    "\n",
    "\\begin{align*}\n",
    "C_VdT&=-pdV\\\\\n",
    "&=-\\frac{nRT}{V}dV\n",
    "\\end{align*}\n",
    "\n",
    "and after dividing both sides by T and integrating, we have a nice relationship between temperature and volume changes:\n",
    "$$C_V\\ln\\frac{T_{cold}}{T_{hot}}=-nR\\ln\\frac{V_3}{V_2}=nR\\ln\\frac{V_2}{V_3}$$\n",
    "\n",
    "The total heat: \n",
    "\n",
    "\\begin{align*}\n",
    "q_{cycle} &= q_1 + q_2 + q_3 + q_4 \\\\\n",
    "&= nRT_{hot}\\ln\\frac{V_2}{V_1} + 0 + nRT_{cold}\\ln\\frac{V_4}{V_3} + 0\n",
    "\\end{align*}\n",
    "\n",
    "and the total work:\n",
    "\n",
    "\\begin{align*}\n",
    "-w_{cycle} &= -(w_1 + w_2 + w_3 + w_4) \\\\\n",
    "&= nRT_{hot}\\ln\\frac{V_2}{V_1} + nRT_{cold}\\ln\\frac{V_4}{V_3} \\\\&= q_1 +  q_3\n",
    "\\end{align*}\n",
    "\n",
    "(since $w_2$ and $w_4$ cancel.)\n",
    "\n",
    "Thus, the work done by the engine is defined as the heat extracted from the surroundings, and the efficiency of the engine is given the heat absorbed during the hot expansion step and heat released during cool compression step (moved from the hot to the cold reservoirs):\n",
    "$$\\eta =  1 + \\frac{q_3}{q_1} = 1-\\frac{T_{cold}}{T_{hot}}$$\n",
    "<img align=\"right\" src=\"https://raw.githubusercontent.com/mpfoster/Biochem5721/master/images/03_04_FigureB.jpg\" width=\"200\"/><i><figcaption>Fig 3.2 Carnot Cycle heat engine cast in terms of entropy</figcaption></i> \n",
    "We can recast the Carnot Cycle engine by considering the change in entropy *S* with change in temperature *T* through the cycle. Shaded area is the work done (heat transfered to surroundings)\n",
    "\n",
    "$$\\Delta S = \\int\\frac{dq_{rev}}{T}$$\n",
    "and for an isothermal process,\n",
    "$$\\Delta S = \\frac{q_{rev}}{T}$$\n",
    "The Carnot Cycle work was foundationally important for establishing the concept of entropy, but we will focus on molecular interpretations of entropy and its relevance to biochemical systems.\n",
    "\n",
    "### The Second Law of Thermodynamics\n",
    "Entropy always increases:\n",
    "$$\\Delta S_{system} + \\Delta S_{surroundings} ≥0$$\n",
    "Entropy change can be *0* for reversible processes, and is *>0* for irreversible ones.\n",
    "\n",
    "Unlike energy *U*, entropy *S* is not conserved. "
   ]
  },
  {
   "cell_type": "markdown",
   "metadata": {
    "colab_type": "text",
    "id": "42e3q0-1iXHV"
   },
   "source": [
    "## Measuring Entropy\n",
    "<img align=\"right\" src=\"https://raw.githubusercontent.com/mpfoster/Biochem5721/master/images/03_07_Figure.jpg\" width=\"300\"/><i><figcaption>Fig 3.7 Heat capacity provides a measure of entropy change.</figcaption></i>\n",
    "Heating an ideal gas results in expansion and an increase in entropy. From its definition, we can measure the entropy change $\\Delta S$ from the heat capacity *C* of a solution. At constant pressure:\n",
    "$$\\Delta S = \\int^{T_2}_{T_1}\\frac{C_pdT}{T} = C_p \\ln\\frac{T_2}{T_1}$$\n",
    "(assuming a T-independent $C_p$). At constant V:\n",
    "$$\\Delta S = \\int^{V_2}_{V_1}\\frac{C_VdT}{T} = C_V \\ln\\frac{T_2}{T_1}$$"
   ]
  },
  {
   "cell_type": "markdown",
   "metadata": {
    "colab_type": "text",
    "id": "r5ZUFJ5aoXwx"
   },
   "source": [
    "## Example 3.3\n",
    "<img align=\"right\" src=\"https://raw.githubusercontent.com/mpfoster/Biochem5721/master/images/tmol8-25a.png\" width=\"150\"/>Calculate $\\Delta S$ at constant *p* when 1 mol of water at 100°C is brought into contact with 1 mol of water at 0°C, assuming a T-independent $C_p$ of 75 J/mol•K. \n",
    "<i><figcaption>TMOL 8.25. (A) Two systems, A and B, are isolated from the rest of the world. Heat *q* is transferred from system A to system B until equilibrium is reached.</figcaption></i>\n",
    "\n",
    "**Solution:**\n",
    "\n",
    "Since the # mol of each is the same, and they have the same heat capacity, we can expect that because energy is conserved (1st law), the equilibrium temperature will be (100-0)/2 = 50°C, or 323 K. The we can compute the entropy change for each vessel as:\n",
    "\n",
    "$$\\Delta S = \\Delta S_{hot} + \\Delta S_{cold} = C_{p,m} \\left(\\ln\\frac{T_2}{T_{hot}} + \\ln\\frac{T_2}{T_{cold}}\\right) $$\n",
    "\n"
   ]
  },
  {
   "cell_type": "code",
   "execution_count": 1,
   "metadata": {
    "colab": {
     "base_uri": "https://localhost:8080/",
     "height": 34
    },
    "colab_type": "code",
    "id": "VPJLz1sptB-P",
    "outputId": "f65dc98d-98e8-41ac-d32a-44626342f993"
   },
   "outputs": [
    {
     "name": "stdout",
     "output_type": "stream",
     "text": [
      "Entropy change, dS_hot = -10.79, dS_cold = 12.61,dS_total = 1.82 J/K\n"
     ]
    }
   ],
   "source": [
    "# There's one mol in each reservoir.\n",
    "import math # needed for natural log ln = \"log(x)\"\n",
    "Cp = 75  # J/mol/K\n",
    "T_hot = 373  # 100°C\n",
    "T_2 = 323 # 50°C\n",
    "T_cold = 273 # 0°C\n",
    "n_cold = 1; n_hot = 1 # mol\n",
    "dS_cold = n_cold * Cp * math.log(T_2/T_cold)\n",
    "dS_hot = n_hot * Cp * math.log(T_2/T_hot)\n",
    "dS = dS_cold + dS_hot # J/K\n",
    "print(\"Entropy change, dS_hot = {:.2f}, dS_cold = {:.2f},\\\n",
    "dS_total = {:.2f} J/K\".format(dS_hot,dS_cold,dS))"
   ]
  },
  {
   "cell_type": "markdown",
   "metadata": {
    "colab_type": "text",
    "id": "jcd9jCKmwSzt"
   },
   "source": [
    "So, the hot water loses entropy, the cold water gains entropy, and $\\Delta S > 0$, even though the energy of the system (both chambers) is unchanged. \n",
    "\n",
    "*Heat flows from the hot container to the cold one. This is another definition of the second law.*"
   ]
  },
  {
   "cell_type": "markdown",
   "metadata": {
    "colab_type": "text",
    "id": "LKHnJ3x6ATv6"
   },
   "source": [
    "## Molecular Interpretations of Entropy\n",
    "We saw that doubling the volume of an ideal gas results in an increase in e\n",
    "ntropy:\n",
    "$$\\Delta S_{system} = R \\ln\\frac{V_2}{V_1} = R \\ln 2$$\n",
    "This result provides some hints into the statistical basis of entropy, as described by Boltzmann:\n",
    "$$S = k_B \\ln W$$\n",
    "wherein the Boltzmann constant $(k_B = 1.38065 × 10^{−23} \\text{ J K}^{-1}$) is the gas constant/Avogadro's constant ($R/N_A$), and *W* is the degeneracy of the system, or number of ways it can be equivalently configured. Doubling the volume, obviously doubles the way the atoms can be arranged. The statistical basis of entropy is of great interest for understanding molecular properties and interactions, and will be the focus of further discussion (esp. in Ch. 5)."
   ]
  },
  {
   "cell_type": "markdown",
   "metadata": {
    "colab": {},
    "colab_type": "code",
    "id": "ahhruZ2yQGFg"
   },
   "source": [
    "# Four Constant-Variable Processes on Ideal Gasses\n",
    "*What can we say about q, w and $\\Delta$U?*\n",
    "<img align=\"right\" src=\"https://raw.githubusercontent.com/mpfoster/Biochem5721/master/images/tmol6-10.png\" width=\"400\"/><i><figcaption>TMOL 6.10 Heating a system under conditions of constant volume (left) or pressure (right).</figcaption></i>"
   ]
  },
  {
   "cell_type": "markdown",
   "metadata": {
    "colab": {},
    "colab_type": "code",
    "id": "ahhruZ2yQGFg"
   },
   "source": [
    "## 1. Constant Volume (an *isochoric*) process\n",
    "Start with _n_ molecules of a gas at\n",
    "($p_1, V_1, T_1$) in a cylinder. Hold constant its volume $V_1$. Now introduce an amount\n",
    "of heat $q$ by heating the cylinder reversibly. Heating increases the gas pressure\n",
    "and temperature to ($p_2, V_1, T_2$). \n",
    "$$w = ?$$\n",
    "$$q = ?$$\n",
    "$$\\Delta U = w + q = ?$$\n",
    "$$\\Delta S = ?$$\n",
    "\n",
    "### Considerations\n",
    "* Under constant V, what is work?\n",
    "* Under constant volume, where can *q* go?\n",
    "* How to determine *q*? "
   ]
  },
  {
   "cell_type": "markdown",
   "metadata": {},
   "source": [
    "### Answer\n",
    "When the volume is held constant (an _isochoric_ process), no work is performed, $w = 0$, by definition, because $dV = 0$. In this case, the First Law gives $q = \\Delta U$. Now use the ideal gas law to get\n",
    "\n",
    "$$q = \\Delta U = C_V (T_2−T_1) = \\frac{C_V}{RT}V_0(p_2−p_1)$$\n",
    "and \n",
    "$$\\Delta S = C_V \\ln \\frac{T_2}{T_1}$$"
   ]
  },
  {
   "cell_type": "markdown",
   "metadata": {},
   "source": [
    "## 2. Constant Pressure (isobarric) process\n",
    "Start with *n* molecules of a gas at\n",
    "($p_1, V_1, T_1$). Apply a constant external pressure $p_{ext} = p_1$ to a movable piston\n",
    "reversibly. Transfer in an amount of heat q to increase the gas volume and temperature to ($p_1, V_2, T_2$). \n",
    "$$w = ?$$\n",
    "$$q = ?$$\n",
    "$$\\Delta U = w + q = ?$$\n",
    "$$\\Delta S = ?$$\n",
    "\n",
    "### Considerations\n",
    "* At constant pressure, what happens to gas?"
   ]
  },
  {
   "cell_type": "markdown",
   "metadata": {},
   "source": [
    "### Ans:\n",
    "For an _isobaric_ process, the expansion work is\n",
    "\n",
    "$$w = -\\int^{V_2}_{V_1}p_1 dV = -p_1\\left(V_2-V_1 \\right) $$\n",
    "With the internal energy dependent only on temperature, and can be related to volume via the ideal gas law:\n",
    "$$\\Delta U = C_V\\left(T_2-T_1\\right) = \\frac{C_Vp_1}{RT}\\left(V_2-V_1\\right)$$\n",
    "Then, from the first law,\n",
    "$$q = \\Delta U - w = \\left(\\frac{C_V}{RT}-1\\right)p_1\\left(V_2-V_1\\right)$$"
   ]
  },
  {
   "cell_type": "markdown",
   "metadata": {},
   "source": [
    "## 3. Constant Temperature (isothermal) process\n",
    "<img align=\"right\" src=\"https://raw.githubusercontent.com/mpfoster/Biochem5721/master/images/tmol6-9c.png\" width=\"500\"/><i><figcaption>TMOL 6.9. Isothermal expansion of a gas.</figcaption></i>\n",
    "Start with *n* molecules of an ideal gas at (p1, V1, T1). Hold constant its temperature at T1. Reversibly introduce an amount of heat q (by inputting radiation or combustion inside a\n",
    "cylinder that is contained in a fixed-temperature heat bath, for example) to increase the gas pressure and volume to (p2, V2, T1). Do this quasi-statically, so $p_{ext} = p_{int} = RT_1/V$. \n",
    "\n",
    "\\begin{align*}w &= ?\\\\\n",
    "q &= ?\\\\\n",
    "\\Delta U &= w + q = ?\\\\\n",
    "\\Delta S &= ?\\end{align*}"
   ]
  },
  {
   "cell_type": "markdown",
   "metadata": {},
   "source": [
    "Isothermal work, assuming $p_{ext} \\approx p_{int}$, $w$ is given by:\n",
    "\n",
    "\\begin{align*}\n",
    "w &= -\\int^{V_2}_{V_1}p_{ext}dV = -\\int^{V_2}_{V_1} p_{int}dV \\\\\n",
    "&=-\\int^{V_2}_{V_1}\\frac{RT_1}{V}dV = -RT_1 \\ln\\frac{V_2}{V_1} =-RT_1 \\ln\\frac{p_2}{p_1} \\end{align*}\n",
    "\n",
    "Since in a constant-temperature process $\\Delta U = 0$, the heat is\n",
    "$$q = -w = RT_1\\ln\\frac{V_2}{V_1}$$\n",
    "and \n",
    "$$\\Delta S = \\frac{q}{T} = R\\ln\\frac{V_2}{V_1}$$"
   ]
  },
  {
   "cell_type": "markdown",
   "metadata": {},
   "source": [
    "## 4. Adiabatic process. \n",
    "<img align=\"right\" src=\"https://raw.githubusercontent.com/mpfoster/Biochem5721/master/images/tmol6-9b.png\" width=\"500\"/><i><figcaption>TMOL 6.9. Adiabatic expansion of a gas.</figcaption></i>\n",
    "Start with *n* molecules of an ideal gas at\n",
    "(p1, V1, T1) in an insulated cylinder. No heat exchanges across it, so $q = 0$, and $dU = w$. In an adiabatic process, reversibly change one variable (pressure, temperature, or volume) and the other two will change, to (p2, V2, T2). \n",
    "\n",
    "$$dU = C_VdT \\quad\\text{and}\\quad w = −pdV$$\n",
    "\n",
    "gives\n",
    "$$C_V dT = dU = −pdV$$ \n",
    "Substitute the ideal gas law $p = RT/V$\n",
    "$$C_VdT = -\\frac{RT}{V}dV$$\n",
    "Then, since for ideal gases $C_V$ is independent of T,\n",
    "$$dU = C_V\\ln\\frac{T_2}{T_1}=-R\\ln\\frac{V_2}{V_1}$$"
   ]
  },
  {
   "cell_type": "markdown",
   "metadata": {},
   "source": [
    "## Work *w* is path-dependent\n",
    "<img align=\"right\" src=\"https://raw.githubusercontent.com/mpfoster/Biochem5721/master/images/dill7_3.png\" width=\"200\"/><figcaption><i>Dill, Driving Forces, Fig. 7.3</i></figcaption>Consider you have one mole of an ideal gas in a cylinder. It undergoes a change from state $(p_1, V_1, T_1)$ to\n",
    "$(p_2, V_2, T_2)$. To realize this change in state, consider a quasistatic\n",
    "pathway a involving two steps. First, the gas expands from volume\n",
    "V1 = 1 liter to V2 = 5 liters against a fixed applied pressure of p1 = 100\n",
    "bar. Then, lower the temperature, decreasing the pressure to p2 = 35 bar, at constant volume V2. Along this pathway, *a*, the work of gas expansion is \n",
    "\n",
    "$$w_a = −p_1(V_2−V_1)+0 = −100(5−1) = −400 \\quad\\text{L bar}$$ \n",
    "\n",
    "($R = 8.314\\times10^{-2} \\quad L\\cdot bar\\cdot K^{−1} mol^{−1}$) This work comes entirely from\n",
    "the constant-pressure step, since no work is performed in the constant volume\n",
    "step.\n",
    "\n",
    "Along path *b*, the processes are performed in reverse order: change the\n",
    "volume first, then change the pressure. Now the work is \n",
    "$$w_b = −p_2(V_2−V_1) = −35(5−1) = −140 \\quad\\text{L bar}$$\n",
    "\n",
    "We see that the work is different\n",
    "along the two pathways, $w_a ≠ w_b$, even though they have the same beginning\n",
    "and ending points, ($p_1, V_1$) and ($p_2, V_2$). Or we could achieve the same state\n",
    "change using path *c*, adiabatic and isothermal steps. The amount of work performed\n",
    "depends the physical pathway a system takes."
   ]
  },
  {
   "cell_type": "code",
   "execution_count": null,
   "metadata": {},
   "outputs": [],
   "source": [
    "\n"
   ]
  },
  {
   "cell_type": "markdown",
   "metadata": {},
   "source": [
    "## Energy is a state function. ΔU is independent of the pathway.\n",
    "While the work is path-dependent, the energy difference is not. Suppose the temperatures are  $T_1 = p_1V_1/R = 1200K$ and $T_2 =\n",
    "p_2V_2/R = 2100 K$.\n",
    "The energy change for this ideal gas is \n",
    "\n",
    "$$\\Delta U = C_V (T_2−T_1) = (3/2)R(T_2−\n",
    "T_1) = (1.5)(8.3×10^{−2})(2100−1200) = 111 \\quad\\text{liter bar}$$\n",
    "\n",
    "This is the energy difference, no matter which pathway\n",
    "the system took from state 1 to 2, or even if the process was as fast as an\n",
    "explosion, or involved friction."
   ]
  },
  {
   "cell_type": "markdown",
   "metadata": {},
   "source": [
    "## Quasi-static heat plus work gives the energy. \n",
    "The First Law says that *q* and *w*, two path-dependent quantities, sum to $\\Delta U$, a state\n",
    "function. \n",
    "\n",
    "### Assignment:\n",
    "Check this...."
   ]
  },
  {
   "cell_type": "markdown",
   "metadata": {},
   "source": [
    "(Wednesday 2020-09-16)"
   ]
  },
  {
   "cell_type": "markdown",
   "metadata": {},
   "source": [
    "## Temperature Dependence of Entropy Change \n",
    "We can determine the entropy change for a process at an arbitrary temperature, provided we know the entropy change at some reference temperature (e.g., 25°C), and the heat capacities of the two states:\n",
    "<img src=\"https://raw.githubusercontent.com/mpfoster/Biochem5721/master/images/tinoco-s-cycle-p68.png\" width=\"300\"/>\n",
    "This can be generalized to:\n",
    "$$\\Delta_rS^{\\circ}(T_2) = \\Delta_rS^{\\circ}(T_1) + \\int^{T_2}_{T_1}\\Delta_rC_p\\frac{dT}{T}$$\n",
    "where $\\Delta_rC_p = C_p(products) - C_p(reactants)$"
   ]
  },
  {
   "cell_type": "markdown",
   "metadata": {},
   "source": [
    "### Example 3.4\n",
    "If a spark is applied to a mixture of H2(g) and O2(g), an explosion occurs and water\n",
    "is formed. The gaseous water is cooled to 100°C. Calculate the entropy change when\n",
    "2 mol of gaseous H2O is formed at 100°C and 1 bar from H2(g) and O2(g) at the same\n",
    "temperature and each at a partial pressure of 1 bar.\n",
    "\n",
    "**Solution**\n",
    "$$2H_2(g) + O_2(g) \\rightarrow 2H_2O(g)$$\n",
    "At 25°C, 1 bar,\n",
    "$$\\Delta_rS(25^{\\circ}C) = 2S^{\\circ}_{p,m,H_2O(g)} - S^{\\circ}_{p,m,O_2(g)} - 2S^{\\circ}_{p,m,H_2(g)}$$\n",
    "\n",
    "From Table A.5, the entropy values are 188.93, 205.25 and 130.79 J/mol/K, so"
   ]
  },
  {
   "cell_type": "code",
   "execution_count": 13,
   "metadata": {},
   "outputs": [
    {
     "name": "stdout",
     "output_type": "stream",
     "text": [
      "dS at 25°C: -89 J/mol/K\n"
     ]
    }
   ],
   "source": [
    "ds_r = 2*189 - 205 - 2*131 # J/mol/K\n",
    "print(\"dS at 25°C:\", ds_r, \"J/mol/K\")"
   ]
  },
  {
   "cell_type": "markdown",
   "metadata": {},
   "source": [
    "Not surprisingly, formation of two molecules by three is associated with a *reduction* in entropy."
   ]
  },
  {
   "cell_type": "markdown",
   "metadata": {},
   "source": [
    "<img align=right src=\"https://raw.githubusercontent.com/mpfoster/Biochem5721/master/images/02_Pg24_UnTable_2.jpg\" width=\"200\"/>To determine dS at 100°C, we need heat capacities of each, in order to determine their entropies at the 100°C. With data from Tinoco p. 24, and Table 2.2, we have\n",
    "\n",
    "$$\n",
    "\\begin{align}\n",
    "\\Delta_rC^\\circ_p &= 2C^\\circ_{p,m,H_2O} -  C^\\circ_{p,m,O_2} - 2C^\\circ_{p,m,H_2} \\\\\n",
    "&= 2(36.5) - 29.4 - 2(28.8)\\\\\n",
    "\\end{align}\n",
    "$$"
   ]
  },
  {
   "cell_type": "code",
   "execution_count": 6,
   "metadata": {},
   "outputs": [
    {
     "name": "stdout",
     "output_type": "stream",
     "text": [
      "-14.0 J/mol/K\n"
     ]
    }
   ],
   "source": [
    "dCp = 2*36.5-29.4-2*28.8\n",
    "print(dCp, \"J/mol/K\")"
   ]
  },
  {
   "cell_type": "markdown",
   "metadata": {},
   "source": [
    "And using \n",
    "\n",
    "\\begin{align}\n",
    "\\Delta_rS^\\circ(T_2) &= \\Delta_rS^\\circ(T_1) + \\int^{T_2}_{T_1}\\Delta_rC_p\\frac{dT}{T}\\\\\n",
    "&=\\Delta_rS^\\circ(298)+dCp\\ln\\frac{373}{298}\n",
    "\\end{align}"
   ]
  },
  {
   "cell_type": "code",
   "execution_count": 10,
   "metadata": {},
   "outputs": [
    {
     "name": "stdout",
     "output_type": "stream",
     "text": [
      "dS at 100°C: -92.14 J/mol/K\n"
     ]
    }
   ],
   "source": [
    "import math\n",
    "dSr_100 = ds_r + dCp*math.log(373/298)\n",
    "print(\"dS at 100°C: %.2f J/mol/K\" % dSr_100)"
   ]
  },
  {
   "cell_type": "markdown",
   "metadata": {},
   "source": [
    "So, oxydation of $H_2$(g) to make water vapor is entropically disfavored. This increase in order must be compensated through release in heat to the surroundings, since 2nd law says the entropy change has to be ≥ 0 for a spontaneous process."
   ]
  },
  {
   "cell_type": "markdown",
   "metadata": {},
   "source": [
    "## Entropy Change for Phase Transitions\n",
    "*Reversible* heat exchange divided by the *equilibrium* temperature of the transition yields the transition entropy change $\\Delta_{\\phi}S$:\n",
    "$$q_p = q_{rev} = \\Delta H$$\n",
    "At equilibrium, \n",
    "$$\\Delta_{\\phi}S=\\frac{\\Delta_{\\phi}H}{T}$$\n",
    "\n",
    "So, to obtain the absolute (\"Third Law\") entropy of a liquid at 25°C, 1 bar:\n",
    "$$S^\\circ_m = S^\\circ_m(0K) + \\int^{T_{fus}}_{0}C_{p,m(s)}\\frac{dT}{T} + \\frac{\\Delta_{fus}H°}{T_{fus}} + \\int_{T_{fus}}^{298}C_{p,m(l)}\\frac{dT}{T}$$\n",
    "where $T_{fus}$ is the melting temperature, $S°_m(0K)$ is the entropy at 0 K (which will be zero for a perfect crystal), and $C_p$ values are for heating the solid and liquid phases."
   ]
  },
  {
   "cell_type": "markdown",
   "metadata": {},
   "source": [
    "# Gibbs Free Energy\n",
    "Constant *T* and *p*, and exchange of *q* and *w* of the *system* with its *surroundings* represent the common situation in living systems. In such cases, neither *ΔH* nor *ΔS* alone can determine the direction of spontaneous change -- their combination can:\n",
    "$$G \\equiv H - TS$$\n",
    "If $\\Delta G < 0$ (is negative), a reaction will occur *spontaneously*. If $\\Delta G = 0$, the system is in *equilibrium*.\n",
    "## ΔG describes the ability of the system to do work\n",
    "For a closed system, a small change in G is realted to changes in the other parameters:\n",
    "$$dG = dH - TdS - SdT$$\n",
    "Application of the definition of enthalpy, First Law, and definition of entropy, yields \\[*convince yourself that this is true*\\]:\n",
    "$$dG = dw_{rev} + pdV + Vdp -SdT$$\n",
    "Upon distinguishing *-pdV* work from other types of work, \n",
    "$$dG = Vdp - SdT + dw_{other}$$\n",
    "At constant *T* and *p* (the common biochemical condition), we are left with \n",
    "$$dG = dw_{other}$$\n",
    "That is, at constant *T* and *p*, *ΔG* is the capacity of the system to do (non-expansion) *work*.\n",
    "## *ΔG = ΔH - ΤΔS*\n",
    "For a reaction at constant *T* and *p*:\n",
    "$$\\Delta_r G = \\Delta_r H - T\\Delta_rS$$"
   ]
  },
  {
   "cell_type": "markdown",
   "metadata": {},
   "source": [
    "## Example 3.5\n",
    "Will H<sub>2</sub>O spontaneously decompose?\n",
    "$$H_2O(l) \\longrightarrow H_2(g) + \\frac{1}{2}O_2(g)$$\n",
    "(Note that this reaction is the opposite of the oxidation of H<sub>2</sub> -- Problem 3.10)"
   ]
  },
  {
   "cell_type": "code",
   "execution_count": null,
   "metadata": {},
   "outputs": [],
   "source": [
    "#dG = dG(products) - dG(reactants)\n",
    "#dG = +237 kJ/mol (from table in appendix)\n",
    "# dH(products)-\n",
    "# dS"
   ]
  },
  {
   "cell_type": "markdown",
   "metadata": {},
   "source": [
    "## Temperature Dependence of *G*\n",
    "Given $\\Delta G = \\Delta H - T\\Delta S$, it follows that ΔG will change with *T*. \n",
    "1. Over *small* temperature deviations from standard state (25°C), we can use *T* and the standard-state values of ΔS and ΔH to compute ΔG.\n",
    "1. The more general case at constant *p*, \n",
    "$$\\Delta G_p = -\\int^{T_2}_{T_1}SdT$$\n",
    "   if $\\Delta S_r$ is constant between $T_1$ and $T_2$, we get\n",
    "$$\\Delta_rG(T_2) - \\Delta_rG(T_1) = -\\Delta_rS(T_2-T_1)$$\n",
    "1. Gibbs-Helmholtz equation\n",
    "$$\\frac{\\Delta_rG(T_2)}{T_2} - \\frac{\\Delta_rG(T_1)}{T_1} = \\int^{T_2}_{T_1}\\frac{\\Delta_rH(T)}{T_2}dT = \\Delta_rH\\left[\\frac{1}{T_2}-\\frac{1}{T_1}\\right]$$"
   ]
  },
  {
   "cell_type": "markdown",
   "metadata": {},
   "source": [
    "## Example 3.7\n",
    "What is the free energy of hydrolysis of Gly-Gly at 37°C, 1 bar?\n",
    "\n",
    "**Solution** (breakout)\n"
   ]
  },
  {
   "cell_type": "markdown",
   "metadata": {},
   "source": [
    "# Partial Derivatives in Thermodynamics\n",
    "Partial Derivatives Are the Slopes of the\n",
    "Tangents to Multivariate Functions. The partial derivative of a multivariate function is the slope along one direction (i.e., taken with respect to only one variable) with all the other variables held constant.\n",
    "\n",
    "<img src=\"https://raw.githubusercontent.com/mpfoster/Biochem5721/master/images/dill4-1%2B2.png\" width=\"600\"/>\n",
    "## Partial Derivatives and the Ideal Gas Law\n",
    "$$pV = RT$$\n",
    "First derivatives:\n",
    "$$\\left(\\frac{\\partial p}{\\partial T}\\right)_T = -\\frac{RT}{V}$$\n",
    "\n",
    "<img src=\"https://raw.githubusercontent.com/mpfoster/Biochem5721/master/images/2nd-partial-deriv.png\" width=\"300\"/>\n",
    "\n",
    "<img src=\"https://raw.githubusercontent.com/mpfoster/Biochem5721/master/images/dill4-5.png\" width=\"500\"/>\n",
    "\n",
    "### The Maxwell Relations:\n",
    "Describe the relation of thermodynamic parameters to others.\n",
    "<img src=\"https://raw.githubusercontent.com/mpfoster/Biochem5721/master/images/maxwell-relations.png\" width =\"400\"/>"
   ]
  },
  {
   "cell_type": "code",
   "execution_count": null,
   "metadata": {},
   "outputs": [],
   "source": []
  }
 ],
 "metadata": {
  "colab": {
   "name": "Ch3_intro-2020909.ipynb",
   "provenance": []
  },
  "kernelspec": {
   "display_name": "Python 3",
   "language": "python",
   "name": "python3"
  },
  "language_info": {
   "codemirror_mode": {
    "name": "ipython",
    "version": 3
   },
   "file_extension": ".py",
   "mimetype": "text/x-python",
   "name": "python",
   "nbconvert_exporter": "python",
   "pygments_lexer": "ipython3",
   "version": "3.8.5"
  }
 },
 "nbformat": 4,
 "nbformat_minor": 1
}
