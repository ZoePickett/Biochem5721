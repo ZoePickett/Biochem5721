{
  "nbformat": 4,
  "nbformat_minor": 0,
  "metadata": {
    "colab": {
      "name": "Example3-1-blank.ipynb",
      "provenance": [],
      "authorship_tag": "ABX9TyM08BZPfsWfnUVgUi5dOjOC",
      "include_colab_link": true
    },
    "kernelspec": {
      "name": "python3",
      "display_name": "Python 3"
    }
  },
  "cells": [
    {
      "cell_type": "markdown",
      "metadata": {
        "id": "view-in-github",
        "colab_type": "text"
      },
      "source": [
        "<a href=\"https://colab.research.google.com/github/mpfoster/Biochem5721/blob/master/Example3_1_blank.ipynb\" target=\"_parent\"><img src=\"https://colab.research.google.com/assets/colab-badge.svg\" alt=\"Open In Colab\"/></a>"
      ]
    },
    {
      "cell_type": "markdown",
      "metadata": {
        "id": "5BO7O76aXJmg",
        "colab_type": "text"
      },
      "source": [
        "# Example 3.1\n",
        "\n",
        "1 mole of an ideal gas at *T*, $p_1$= 2 bar, $V_1$, expands isothermally to $p_2$ = 1 bar, *T* and $2V_1$. Consider two paths:   \n",
        "\n",
        "(A) irreversible expansion into a vacuum\n",
        "\n",
        "<img src=\"https://raw.githubusercontent.com/mpfoster/Biochem5721/master/images/03_Pg61_UnFigure.jpg\" width=\"600\"/><i><figcaption>Irreversible isothermal expansion of an ideal gas</figcaption></i>\n",
        "\n",
        "(B) reversible expansion\n",
        "\n",
        "Q: Calculate:\n",
        "1. $q$\n",
        "2. $\\Delta S_{system}$\n",
        "3. $\\Delta S_{surroundings}$\n",
        "\n",
        "\n",
        "\n"
      ]
    },
    {
      "cell_type": "markdown",
      "metadata": {
        "id": "o9FMt2D6XULT",
        "colab_type": "text"
      },
      "source": [
        "## Solution:\n",
        "Recall that $\\Delta S_{system} = \\frac{dq_{rev}}{T}$ is a state variable and should be independent of path, while heat flow *q* depends on path; so, $\\Delta S_{surroundings}$ will differ for (a) and (b).\n",
        "\n",
        "---\n"
      ]
    },
    {
      "cell_type": "markdown",
      "metadata": {
        "id": "m4AJWsQ5XYj8",
        "colab_type": "text"
      },
      "source": [
        "## Path A:\n",
        "\n",
        "Apply First Law to determine *w*, $\\Delta U$ and *q*\n",
        "\n",
        "What does this tell us about \n",
        "$\\Delta S_{surroundings}$?\n",
        "\n",
        "We can use a reversible path to compute $\\Delta S_{system}$ (Since it's a state variable, independent of path). Determine the $q_{rev}$\n",
        "\n",
        "Then,\n",
        "\n",
        "$$\\Delta S_{system}=?$$\n"
      ]
    },
    {
      "cell_type": "markdown",
      "metadata": {
        "id": "noiD6cjGXhdi",
        "colab_type": "text"
      },
      "source": [
        "## Path B\n",
        "The entropy change is independent of path, so\n",
        "$$q_{rev} = ?$$\n",
        "\n",
        "$$\\Delta S_{system} = ?$$\n",
        "\n",
        "$$\\Delta S_{surroundings} = ?$$\n",
        "\n"
      ]
    }
  ]
}