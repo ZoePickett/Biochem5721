{
  "nbformat": 4,
  "nbformat_minor": 0,
  "metadata": {
    "colab": {
      "name": "02-distributions-5721.ipynb",
      "provenance": [],
      "include_colab_link": true
    },
    "kernelspec": {
      "display_name": "Python 3",
      "language": "python",
      "name": "python3"
    },
    "language_info": {
      "codemirror_mode": {
        "name": "ipython",
        "version": 3
      },
      "file_extension": ".py",
      "mimetype": "text/x-python",
      "name": "python",
      "nbconvert_exporter": "python",
      "pygments_lexer": "ipython3",
      "version": "3.6.8"
    }
  },
  "cells": [
    {
      "cell_type": "markdown",
      "metadata": {
        "id": "view-in-github",
        "colab_type": "text"
      },
      "source": [
        "<a href=\"https://colab.research.google.com/github/mpfoster/Biochem5721/blob/master/02_distributions_5721.ipynb\" target=\"_parent\"><img src=\"https://colab.research.google.com/assets/colab-badge.svg\" alt=\"Open In Colab\"/></a>"
      ]
    },
    {
      "cell_type": "markdown",
      "metadata": {
        "id": "sIaE-bWzww-n",
        "colab_type": "text"
      },
      "source": [
        "# Biochem 5721 -- Reading data and analyzing distributions"
      ]
    },
    {
      "cell_type": "markdown",
      "metadata": {
        "id": "slzBN7Jvww-p",
        "colab_type": "text"
      },
      "source": [
        "## Ensemble properties from averaging of large ensembles\n",
        "<img  align=\"right\" src=\"https://raw.githubusercontent.com/mpfoster/Biochem5721/master/images/kinesin-cartoon.png\" alt=\"Kinesin\" width=\"500\"/>\n",
        "\n",
        "* We saw in Video 1 that molecular motors walking on microtubules are responsible for morphological changes in a cell, and for enabling cell division. In the case of kinesin, we envision a dimeric molecule that makes stepping motions as ATP in the microtubule binding domains is hydrolyzed to ADP, dicusing a conformational change. \n",
        "* We also saw that single-molecule fluorecent methods could be used to visualize the movement of individual kinesin molecules on microtubules.\n",
        "* Important questions about molecular motor function include:\n",
        "  1. How fast can these motors travel?\n",
        "  1. Do they move by a _stepping_ motion, or more like an _inch-worm_?\n",
        "  1. How far do they move in a single stroke?\n",
        "  1. How efficient is the motor (how many steps per ATP hydrolyzed) per step or per nm?\n",
        "  1. How processive is it (how often does it fall off)?\n",
        "\n",
        "* Biochemists have long studied these and related questions using traditional _ensemble_ approaches, which measure the **average** overall behavior of _many, many_ molecules (~10<sup>-12</sup> mol ~10<sup>11</sup> molecules).\n",
        "* The accuracy and precision of those measurements depends on the sensitivity of the available technology, but also on intrinsict variability of the molecules themselves.\n"
      ]
    },
    {
      "cell_type": "markdown",
      "metadata": {
        "id": "t2SNdL-m3grc",
        "colab_type": "text"
      },
      "source": [
        "# Single molecule methods reveal variation within the ensemble.\n",
        "* Highly sensitive single molecule fluorescence techniques allow measurement of the position of indivisual molecules (esp. TIRF microscopy, Total Internal Reflectance). \n",
        "<img src=\"https://raw.githubusercontent.com/mpfoster/Biochem5721/master/images/myosin-stepping.png\" width=800>\n",
        "* In single molecule experiments using another motor, myosin, \n",
        "Yildiz _et al._(2003) _Science_ 300(5628):pp. 2061-2065, DOI: 10.1126/science.1084398 (https://science-sciencemag-org.proxy.lib.ohio-state.edu/content/300/5628/2061) achieved high spatial resolution by immobilizing actin substrates (for example by stretching it between two small particles), and then observing the position of a fluorescent tag attached to one of the myosin \"legs\". A representative movie can be found at [this link](https://raw.githubusercontent.com/mpfoster/Biochem5721/master/images/myosin-time-course.mov). (A video describing this and related research is here: https://www.youtube.com/watch?v=MKlyi4euq50) \n"
      ]
    },
    {
      "cell_type": "markdown",
      "metadata": {
        "id": "-UNmI3Uc_c1n",
        "colab_type": "text"
      },
      "source": [
        "<img  align=\"right\" alt=\"Stepping Plot\" src=\"https://raw.githubusercontent.com/mpfoster/Biochem5721/master/images/myosin-step-plot.png\" width=600>\n",
        "\n",
        "* By measuring the positions of individual molecules over time, the authors were able to measure the movements of individual myosin dimers (3 shown in the plot)\n",
        "* Step sizes were measured for 32 molecules for a total of 231 steps over ~100s\n",
        "* Step sizes were binned and plotted as a histogram (number of steps of a given length) \n",
        "\n",
        "### _Observations?_ \n",
        "### _Conclusions?_\n",
        "<!-- \n",
        "Obs:\n",
        "1. Average step size ~74 nm, not inching; stdev = 5 nm\n",
        "2. range of step sizes was ~30 nm (60-90)\n",
        "3. Distribution looks more or less Gaussian (normal distribution)\n",
        "\n",
        "Conclusions:\n",
        "1. Step-size is ~2x translocation, so stepping\n",
        "2. Step size is not uniform, or constant!\n",
        "3. Normal distribution suggests a relatively simple thermodynamic explanation for the variation in step size\n",
        " -->\n",
        "\n"
      ]
    },
    {
      "cell_type": "code",
      "metadata": {
        "id": "mfuYNNpy3XVS",
        "colab_type": "code",
        "colab": {}
      },
      "source": [
        ""
      ],
      "execution_count": null,
      "outputs": []
    },
    {
      "cell_type": "markdown",
      "metadata": {
        "id": "_T807wBEww-t",
        "colab_type": "text"
      },
      "source": [
        "## Chemical shift data\n",
        "\n",
        "<img  align=\"right\" src=\"http://www.bmrb.wisc.edu/metabolomics/standards/5_Hydroxy_L_tryptophan/lit/439280.png\" alt=\"Trp\" width=\"200\"/>\n",
        "NMR chemical shifts are sensitive to the local chemical environment. For a tryptophan (Trp) residue in a protein, the chemical shift of the H indole proton H$\\epsilon$<sup>1</sup> is generally well separated from other <sup>1</sup>H signals in the molecule and can serve as useful probes of protein foldedness, flexibility and ligand binding.\n",
        "\n",
        "Chemical shift statistics in general are used to facilitate assignments and to determine whether the local environment is unusual. \n",
        "\n",
        "Chemical shift data has been tabulated by the NMR communite at the BMRB (_BioMagResBank_, Biological Magnetic Resonance Data Bank; http://www.bmrb.wisc.edu/). Because chemical shift depends on structure, and structure depends on energy (thermodynamics), one might expect the chemical shifts for a particular atom type to exhibit a Normal (Gaussian) distribution around some mean value. We will test that assumption in this Jupyter notebook."
      ]
    },
    {
      "cell_type": "code",
      "metadata": {
        "colab_type": "code",
        "id": "QC2UHjqHRvAo",
        "colab": {}
      },
      "source": [
        "# Chemical shift histogram\n",
        "# download chemical shift data from BMRB:\n",
        "# http://www.bmrb.wisc.edu/ftp/pub/bmrb/statistics/chem_shifts/full/devise/TRP_HE1_sel.txt\n",
        "# import requirements:\n",
        "import pandas as pd\n",
        "import matplotlib.pyplot as plt\n",
        "from scipy import stats\n",
        "import seaborn as sns\n",
        "import requests"
      ],
      "execution_count": null,
      "outputs": []
    },
    {
      "cell_type": "code",
      "metadata": {
        "colab_type": "code",
        "id": "nIxO3kSTSVns",
        "colab": {
          "base_uri": "https://localhost:8080/",
          "height": 206
        },
        "outputId": "29f399b8-95ed-4aaa-ed9a-2f39faabbada"
      },
      "source": [
        "# load data into a dataframe:\n",
        "# df = pd.read_csv('http://www.bmrb.wisc.edu/ftp/pub/bmrb/statistics/chem_shifts/aa_full.csv')  # statistics\n",
        "data_url='http://www.bmrb.wisc.edu/ftp/pub/bmrb/statistics/chem_shifts/full/devise/TRP_HE1_sel.txt'\n",
        "df = pd.read_csv(data_url,\n",
        "    names=(\"id\",\"mol\",\"282\",\"resi\",\"resn\",\"name\",\"element\",\"shift\",\"n\")\n",
        "    )  #data\n",
        "df.head()"
      ],
      "execution_count": null,
      "outputs": [
        {
          "output_type": "execute_result",
          "data": {
            "text/html": [
              "<div>\n",
              "<style scoped>\n",
              "    .dataframe tbody tr th:only-of-type {\n",
              "        vertical-align: middle;\n",
              "    }\n",
              "\n",
              "    .dataframe tbody tr th {\n",
              "        vertical-align: top;\n",
              "    }\n",
              "\n",
              "    .dataframe thead th {\n",
              "        text-align: right;\n",
              "    }\n",
              "</style>\n",
              "<table border=\"1\" class=\"dataframe\">\n",
              "  <thead>\n",
              "    <tr style=\"text-align: right;\">\n",
              "      <th></th>\n",
              "      <th>id</th>\n",
              "      <th>mol</th>\n",
              "      <th>282</th>\n",
              "      <th>resi</th>\n",
              "      <th>resn</th>\n",
              "      <th>name</th>\n",
              "      <th>element</th>\n",
              "      <th>shift</th>\n",
              "      <th>n</th>\n",
              "    </tr>\n",
              "  </thead>\n",
              "  <tbody>\n",
              "    <tr>\n",
              "      <th>0</th>\n",
              "      <td>15835</td>\n",
              "      <td>protein</td>\n",
              "      <td>282</td>\n",
              "      <td>149</td>\n",
              "      <td>TRP</td>\n",
              "      <td>HE1</td>\n",
              "      <td>H</td>\n",
              "      <td>-1.2790</td>\n",
              "      <td>1</td>\n",
              "    </tr>\n",
              "    <tr>\n",
              "      <th>1</th>\n",
              "      <td>36103</td>\n",
              "      <td>protein</td>\n",
              "      <td>282</td>\n",
              "      <td>32</td>\n",
              "      <td>TRP</td>\n",
              "      <td>HE1</td>\n",
              "      <td>H</td>\n",
              "      <td>4.6900</td>\n",
              "      <td>1</td>\n",
              "    </tr>\n",
              "    <tr>\n",
              "      <th>2</th>\n",
              "      <td>6934</td>\n",
              "      <td>protein</td>\n",
              "      <td>282</td>\n",
              "      <td>127</td>\n",
              "      <td>TRP</td>\n",
              "      <td>HE1</td>\n",
              "      <td>H</td>\n",
              "      <td>5.0000</td>\n",
              "      <td>4</td>\n",
              "    </tr>\n",
              "    <tr>\n",
              "      <th>3</th>\n",
              "      <td>17246</td>\n",
              "      <td>protein</td>\n",
              "      <td>282</td>\n",
              "      <td>65</td>\n",
              "      <td>TRP</td>\n",
              "      <td>HE1</td>\n",
              "      <td>H</td>\n",
              "      <td>5.0290</td>\n",
              "      <td>1</td>\n",
              "    </tr>\n",
              "    <tr>\n",
              "      <th>4</th>\n",
              "      <td>16933</td>\n",
              "      <td>protein</td>\n",
              "      <td>282</td>\n",
              "      <td>59</td>\n",
              "      <td>TRP</td>\n",
              "      <td>HE1</td>\n",
              "      <td>H</td>\n",
              "      <td>5.1154</td>\n",
              "      <td>1</td>\n",
              "    </tr>\n",
              "  </tbody>\n",
              "</table>\n",
              "</div>"
            ],
            "text/plain": [
              "      id      mol  282  resi resn name element   shift  n\n",
              "0  15835  protein  282   149  TRP  HE1       H -1.2790  1\n",
              "1  36103  protein  282    32  TRP  HE1       H  4.6900  1\n",
              "2   6934  protein  282   127  TRP  HE1       H  5.0000  4\n",
              "3  17246  protein  282    65  TRP  HE1       H  5.0290  1\n",
              "4  16933  protein  282    59  TRP  HE1       H  5.1154  1"
            ]
          },
          "metadata": {
            "tags": []
          },
          "execution_count": 41
        }
      ]
    },
    {
      "cell_type": "code",
      "metadata": {
        "colab_type": "code",
        "id": "BrcAlOiBcCpx",
        "colab": {
          "base_uri": "https://localhost:8080/",
          "height": 300
        },
        "outputId": "0831f627-743f-4830-833b-42615f141ed7"
      },
      "source": [
        "df.describe()"
      ],
      "execution_count": null,
      "outputs": [
        {
          "output_type": "execute_result",
          "data": {
            "text/html": [
              "<div>\n",
              "<style scoped>\n",
              "    .dataframe tbody tr th:only-of-type {\n",
              "        vertical-align: middle;\n",
              "    }\n",
              "\n",
              "    .dataframe tbody tr th {\n",
              "        vertical-align: top;\n",
              "    }\n",
              "\n",
              "    .dataframe thead th {\n",
              "        text-align: right;\n",
              "    }\n",
              "</style>\n",
              "<table border=\"1\" class=\"dataframe\">\n",
              "  <thead>\n",
              "    <tr style=\"text-align: right;\">\n",
              "      <th></th>\n",
              "      <th>id</th>\n",
              "      <th>282</th>\n",
              "      <th>resi</th>\n",
              "      <th>shift</th>\n",
              "    </tr>\n",
              "  </thead>\n",
              "  <tbody>\n",
              "    <tr>\n",
              "      <th>count</th>\n",
              "      <td>9133.000000</td>\n",
              "      <td>9133.0</td>\n",
              "      <td>9133.000000</td>\n",
              "      <td>9133.000000</td>\n",
              "    </tr>\n",
              "    <tr>\n",
              "      <th>mean</th>\n",
              "      <td>15517.084857</td>\n",
              "      <td>282.0</td>\n",
              "      <td>58.873426</td>\n",
              "      <td>10.091812</td>\n",
              "    </tr>\n",
              "    <tr>\n",
              "      <th>std</th>\n",
              "      <td>9032.072878</td>\n",
              "      <td>0.0</td>\n",
              "      <td>47.376556</td>\n",
              "      <td>1.452586</td>\n",
              "    </tr>\n",
              "    <tr>\n",
              "      <th>min</th>\n",
              "      <td>5.000000</td>\n",
              "      <td>282.0</td>\n",
              "      <td>1.000000</td>\n",
              "      <td>-1.279000</td>\n",
              "    </tr>\n",
              "    <tr>\n",
              "      <th>25%</th>\n",
              "      <td>6782.000000</td>\n",
              "      <td>282.0</td>\n",
              "      <td>24.000000</td>\n",
              "      <td>9.910000</td>\n",
              "    </tr>\n",
              "    <tr>\n",
              "      <th>50%</th>\n",
              "      <td>16195.000000</td>\n",
              "      <td>282.0</td>\n",
              "      <td>47.000000</td>\n",
              "      <td>10.130000</td>\n",
              "    </tr>\n",
              "    <tr>\n",
              "      <th>75%</th>\n",
              "      <td>19483.000000</td>\n",
              "      <td>282.0</td>\n",
              "      <td>84.000000</td>\n",
              "      <td>10.355000</td>\n",
              "    </tr>\n",
              "    <tr>\n",
              "      <th>max</th>\n",
              "      <td>50409.000000</td>\n",
              "      <td>282.0</td>\n",
              "      <td>392.000000</td>\n",
              "      <td>131.711000</td>\n",
              "    </tr>\n",
              "  </tbody>\n",
              "</table>\n",
              "</div>"
            ],
            "text/plain": [
              "                 id     282         resi        shift\n",
              "count   9133.000000  9133.0  9133.000000  9133.000000\n",
              "mean   15517.084857   282.0    58.873426    10.091812\n",
              "std     9032.072878     0.0    47.376556     1.452586\n",
              "min        5.000000   282.0     1.000000    -1.279000\n",
              "25%     6782.000000   282.0    24.000000     9.910000\n",
              "50%    16195.000000   282.0    47.000000    10.130000\n",
              "75%    19483.000000   282.0    84.000000    10.355000\n",
              "max    50409.000000   282.0   392.000000   131.711000"
            ]
          },
          "metadata": {
            "tags": []
          },
          "execution_count": 7
        }
      ]
    },
    {
      "cell_type": "code",
      "metadata": {
        "colab_type": "code",
        "id": "YetODytfbuCg",
        "colab": {
          "base_uri": "https://localhost:8080/",
          "height": 316
        },
        "outputId": "8941d0cc-af45-4fb6-d297-2d50b256d411"
      },
      "source": [
        "df.hist('shift', bins=100)"
      ],
      "execution_count": null,
      "outputs": [
        {
          "output_type": "execute_result",
          "data": {
            "text/plain": [
              "array([[<AxesSubplot:title={'center':'shift'}>]], dtype=object)"
            ]
          },
          "metadata": {
            "tags": []
          },
          "execution_count": 8
        },
        {
          "output_type": "display_data",
          "data": {
            "image/png": "[encoded data removed]",
            "text/plain": [
              "<Figure size 432x288 with 1 Axes>"
            ]
          },
          "metadata": {
            "tags": [],
            "needs_background": "light"
          }
        }
      ]
    },
    {
      "cell_type": "code",
      "metadata": {
        "colab_type": "code",
        "id": "a4Rq-f4rSYF3",
        "colab": {
          "base_uri": "https://localhost:8080/",
          "height": 316
        },
        "outputId": "bb7beaab-ec05-419b-f092-6edc9717e2d5"
      },
      "source": [
        "df.hist('shift', range=(7,13), bins=100)"
      ],
      "execution_count": null,
      "outputs": [
        {
          "output_type": "execute_result",
          "data": {
            "text/plain": [
              "array([[<AxesSubplot:title={'center':'shift'}>]], dtype=object)"
            ]
          },
          "metadata": {
            "tags": []
          },
          "execution_count": 9
        },
        {
          "output_type": "display_data",
          "data": {
            "image/png": "[encoded data removed]",
            "text/plain": [
              "<Figure size 432x288 with 1 Axes>"
            ]
          },
          "metadata": {
            "tags": [],
            "needs_background": "light"
          }
        }
      ]
    },
    {
      "cell_type": "code",
      "metadata": {
        "colab_type": "code",
        "id": "TecBSfWZdsVR",
        "colab": {}
      },
      "source": [
        "#samples = df['shift'].between(7, 13).tolist()\n",
        "df2 = df.loc[(df['shift'] > 7) & (df['shift'] < 13)]\n",
        "samples = df2['shift'].tolist()\n",
        "#op = df.loc[(df['Height'] > 70) & (df['Weight'] > 160)]"
      ],
      "execution_count": null,
      "outputs": []
    },
    {
      "cell_type": "code",
      "metadata": {
        "colab_type": "code",
        "id": "BK_lpSU-lHdl",
        "colab": {
          "base_uri": "https://localhost:8080/",
          "height": 54
        },
        "outputId": "47763af6-e5a2-42f4-8efe-202b92942f61"
      },
      "source": [
        "r = stats.describe(samples)\n",
        "r"
      ],
      "execution_count": null,
      "outputs": [
        {
          "output_type": "execute_result",
          "data": {
            "text/plain": [
              "DescribeResult(nobs=9036, minmax=(7.0089999999999995, 12.94), mean=10.117424140770252, variance=0.2967401592759905, skewness=-0.6739311563657784, kurtosis=5.411165638404471)"
            ]
          },
          "metadata": {
            "tags": []
          },
          "execution_count": 11
        }
      ]
    },
    {
      "cell_type": "code",
      "metadata": {
        "colab_type": "code",
        "id": "h7gddHSFdngo",
        "colab": {
          "base_uri": "https://localhost:8080/",
          "height": 34
        },
        "outputId": "e452db7d-6920-4829-89a7-fb797c0f2806"
      },
      "source": [
        "(mu, sigma) = stats.norm.fit(samples)\n",
        "print(\"Chemical Shift Mean: {0:.2f} ± {1:.2f} ppm\".format(mu, sigma))"
      ],
      "execution_count": null,
      "outputs": [
        {
          "output_type": "stream",
          "text": [
            "Chemical Shift Mean: 10.12 ± 0.54 ppm\n"
          ],
          "name": "stdout"
        }
      ]
    },
    {
      "cell_type": "markdown",
      "metadata": {
        "colab_type": "text",
        "id": "Pc438YZNj0o_"
      },
      "source": [
        "\"Normal\" probability density function: $f(x)= \\frac{exp(-x^2/2)}{\\sqrt{ 2 \\pi}}$"
      ]
    },
    {
      "cell_type": "code",
      "metadata": {
        "colab_type": "code",
        "id": "GXf6Y9D6fszx",
        "colab": {
          "base_uri": "https://localhost:8080/",
          "height": 282
        },
        "outputId": "3998013e-cd2e-408b-9687-98e27fb02906"
      },
      "source": [
        "ax = sns.distplot(samples, bins=100, kde=False, fit=stats.norm)\n",
        "ax.set_xlim([7,14])\n",
        "#plt.savefig('figure', dpi=150)"
      ],
      "execution_count": null,
      "outputs": [
        {
          "output_type": "execute_result",
          "data": {
            "text/plain": [
              "(7.0, 14.0)"
            ]
          },
          "metadata": {
            "tags": []
          },
          "execution_count": 13
        },
        {
          "output_type": "display_data",
          "data": {
            "image/png": "[encoded data removed]",
            "text/plain": [
              "<Figure size 432x288 with 1 Axes>"
            ]
          },
          "metadata": {
            "tags": [],
            "needs_background": "light"
          }
        }
      ]
    },
    {
      "cell_type": "code",
      "metadata": {
        "colab_type": "code",
        "id": "fwPk1jSWVNcq",
        "colab": {
          "base_uri": "https://localhost:8080/",
          "height": 282
        },
        "outputId": "1e5e4751-6da9-4940-833b-034f80750819"
      },
      "source": [
        "ax = sns.distplot(samples, bins=100, kde=False, fit=stats.laplace)\n",
        "ax.set_xlim([7,14])\n"
      ],
      "execution_count": null,
      "outputs": [
        {
          "output_type": "execute_result",
          "data": {
            "text/plain": [
              "(7.0, 14.0)"
            ]
          },
          "metadata": {
            "tags": []
          },
          "execution_count": 14
        },
        {
          "output_type": "display_data",
          "data": {
            "image/png": "[encoded data removed]",
            "text/plain": [
              "<Figure size 432x288 with 1 Axes>"
            ]
          },
          "metadata": {
            "tags": [],
            "needs_background": "light"
          }
        }
      ]
    },
    {
      "cell_type": "markdown",
      "metadata": {
        "colab_type": "text",
        "id": "bt1tbR6Ydtwt"
      },
      "source": [
        ""
      ]
    }
  ]
}