{
  "nbformat": 4,
  "nbformat_minor": 0,
  "metadata": {
    "colab": {
      "name": "02-distributions-5721.ipynb",
      "provenance": [],
      "include_colab_link": true
    },
    "kernelspec": {
      "display_name": "Python 3",
      "language": "python",
      "name": "python3"
    },
    "language_info": {
      "codemirror_mode": {
        "name": "ipython",
        "version": 3
      },
      "file_extension": ".py",
      "mimetype": "text/x-python",
      "name": "python",
      "nbconvert_exporter": "python",
      "pygments_lexer": "ipython3",
      "version": "3.6.8"
    }
  },
  "cells": [
    {
      "cell_type": "markdown",
      "metadata": {
        "id": "view-in-github",
        "colab_type": "text"
      },
      "source": [
        "<a href=\"https://colab.research.google.com/github/mpfoster/Biochem5721/blob/master/02_distributions_5721.ipynb\" target=\"_parent\"><img src=\"https://colab.research.google.com/assets/colab-badge.svg\" alt=\"Open In Colab\"/></a>"
      ]
    },
    {
      "cell_type": "markdown",
      "metadata": {
        "id": "sIaE-bWzww-n",
        "colab_type": "text"
      },
      "source": [
        "# Biochem 5721 -- Reading data and analyzing distributions"
      ]
    },
    {
      "cell_type": "markdown",
      "metadata": {
        "id": "slzBN7Jvww-p",
        "colab_type": "text"
      },
      "source": [
        "## Ensemble properties from averaging of large ensembles\n",
        "<img  align=\"right\" src=\"https://raw.githubusercontent.com/mpfoster/Biochem5721/master/images/kinesin-cartoon.png\" alt=\"Kinesin\" width=\"500\"/>\n",
        "\n",
        "* We saw in Video 1 that molecular motors walking on microtubules are responsible for morphological changes in a cell, and for enabling cell division. In the case of kinesin, we envision a dimeric molecule that makes stepping motions as ATP in the microtubule binding domains is hydrolyzed to ADP, dicusing a conformational change. \n",
        "* We also saw that single-molecule fluorecent methods could be used to visualize the movement of individual kinesin molecules on microtubules.\n",
        "* Important questions about molecular motor function include:\n",
        "  1. How fast can these motors travel?\n",
        "  1. Do they move by a _stepping_ motion, or more like an _inch-worm_?\n",
        "  1. How far do they move in a single stroke?\n",
        "  1. How efficient is the motor (how many steps per ATP hydrolyzed) per step or per nm?\n",
        "  1. How processive is it (how often does it fall off)?\n",
        "\n",
        "* Biochemists have long studied these and related questions using traditional _ensemble_ approaches, which measure the **average** overall behavior of _many, many_ molecules (~10<sup>-12</sup> mol ~10<sup>11</sup> molecules).\n",
        "* The accuracy and precision of those measurements depends on the sensitivity of the available technology, but also on intrinsict variability of the molecules themselves.\n"
      ]
    },
    {
      "cell_type": "markdown",
      "metadata": {
        "id": "t2SNdL-m3grc",
        "colab_type": "text"
      },
      "source": [
        "# Single molecule methods reveal variation within the ensemble.\n",
        "* Highly sensitive single molecule fluorescence techniques allow measurement of the position of indivisual molecules (esp. TIRF microscopy, Total Internal Reflectance). \n",
        "\n",
        "<img  alt=\"Hand-over-hand & Inchworm Models\" src=\"https://raw.githubusercontent.com/mpfoster/Biochem5721/master/images/myosin-stepping.png\" width=\"800\"/>\n",
        "* In single molecule experiments using another motor, myosin, \n",
        "Yildiz *et al.*(2003) *Science* 300(5628):pp. 2061-2065, DOI: 10.1126/science.1084398 (https://science-sciencemag-org.proxy.lib.ohio-state.edu/content/300/5628/2061) achieved high spatial resolution by immobilizing actin substrates (for example by stretching it between two small particles), and then observing the position of a fluorescent tag attached to one of the myosin \"legs\". A representative movie can be found at [this link](https://raw.githubusercontent.com/mpfoster/Biochem5721/master/images/myosin-time-course.mov). (A video describing this and related research is here: https://www.youtube.com/watch?v=MKlyi4euq50) \n"
      ]
    },
    {
      "cell_type": "markdown",
      "metadata": {
        "id": "-UNmI3Uc_c1n",
        "colab_type": "text"
      },
      "source": [
        "\n",
        "<img align=\"right\" alt=\"Stepping Plot\" src=\"https://raw.githubusercontent.com/mpfoster/Biochem5721/master/images/myosin-step-plot.png\" width=\"600\"/>\n",
        "\n",
        "* By measuring the positions of individual molecules over time, the authors were able to measure the movements of individual myosin dimers (3 shown in the plot)\n",
        "* Step sizes were measured for 32 molecules for a total of 231 steps over ~100s\n",
        "* Step sizes were binned and plotted as a histogram (number of steps of a given length) \n",
        "\n",
        "### _Observations?_ \n",
        "### _Conclusions?_\n",
        "<!-- \n",
        "Obs:\n",
        "1. Average step size ~74 nm, not inching; stdev = 5 nm\n",
        "2. range of step sizes was ~30 nm (60-90)\n",
        "3. Distribution looks more or less Gaussian (normal distribution)\n",
        "\n",
        "Conclusions:\n",
        "1. Step-size is ~2x translocation, so stepping\n",
        "2. Step size is not uniform, or constant!\n",
        "3. Normal distribution suggests a relatively simple thermodynamic explanation for the variation in step size\n",
        " -->\n",
        "\n"
      ]
    },
    {
      "cell_type": "markdown",
      "metadata": {
        "id": "KnXWVGy1IfSS",
        "colab_type": "text"
      },
      "source": [
        "## Statistical measures are important in experimental sciences\n",
        "* Measurements of molecular properties are subject to variability due to limitations of measurements, and variation of the phenomenon (both real and artificial).\n",
        "* This makes it critical to define the precision with which we _know_ something.\n",
        "* Most commonly, by computing the **mean**, $\\large \\bar{x} = \\frac{\\sum_{1}^{N}x}{N} $\n",
        "and (sample) **standard deviation** $\\large \\sigma = \\sqrt{\\frac{\\sum_{1}^{N}(x-\\bar{x})^2}{N-1}}$\n",
        "<img align=\"right\" alt=\"Bell Curve\" src=\"https://raw.githubusercontent.com/mpfoster/Biochem5721/master/images/normal-distrib.png\" width=\"400\"/>\n",
        "* These values are most commonly interpreted in the context of an *assumed* **Normal Distribution**\n",
        "  * In a Normal Distribution, the mean $\\bar{x}$ is the *most probable* value, and $\\sigma$ describes the width of the distribution. \n",
        "  * 68% of the data are within $1\\sigma$, 95% within $2\\sigma$. So, differenfes $>2\\sigma$ are often considered significant\n",
        "\n",
        "* Lets compute these by hand for a small sample: [76.1, 72.6, 73.2]"
      ]
    },
    {
      "cell_type": "code",
      "metadata": {
        "id": "HjhsgJjHlJGO",
        "colab_type": "code",
        "colab": {}
      },
      "source": [
        "# mean: sum the values and divide by the number of values:\n",
        "mean = <code-here>\n",
        "mean"
      ],
      "execution_count": null,
      "outputs": []
    },
    {
      "cell_type": "code",
      "metadata": {
        "id": "M0Jm7XzElkAB",
        "colab_type": "code",
        "colab": {}
      },
      "source": [
        "'''\n",
        " stdev: for each value, subtract from mean, square it, sum to the others, divide by N-1 and take the square root\n",
        "'''\n",
        "stdev = <code-here>    # compute it\n",
        "stdev   # print it"
      ],
      "execution_count": null,
      "outputs": []
    },
    {
      "cell_type": "code",
      "metadata": {
        "id": "Rcq5uxEDmeGb",
        "colab_type": "code",
        "colab": {}
      },
      "source": [
        "# Let's use Python libraries\n",
        "# make a list of our values:\n",
        "list = [ , ]  # square brackets, separate values by \",\"\n",
        "from scipy import stats\n",
        "stats.describe(a)"
      ],
      "execution_count": null,
      "outputs": []
    },
    {
      "cell_type": "markdown",
      "metadata": {
        "id": "TMBmqaUgVtkE",
        "colab_type": "text"
      },
      "source": [
        "## Let's simulate a normal distribution!\n",
        "Yildiz *et al.* measured the step size of myosin motors from N = 231 samples. Assuming we know the answer, we can simulate the effect of sample size on the accuracy of the measurement and analysis. For example, what if they made the minimum measurements (3)? Another 231? 10X?"
      ]
    },
    {
      "cell_type": "code",
      "metadata": {
        "id": "tehN2ZVlZUfQ",
        "colab_type": "code",
        "colab": {}
      },
      "source": [
        "import matplotlib.pyplot as plt\n",
        "%matplotlib inline\n",
        "from scipy import stats # scipy statistical tools\n",
        "import seaborn as sns   # this is a nice package for plotting and some stats analysis\n",
        "plt.style.use('ggplot')   # nice style plots"
      ],
      "execution_count": null,
      "outputs": []
    },
    {
      "cell_type": "code",
      "metadata": {
        "id": "CAsucfvwozZ9",
        "colab_type": "code",
        "colab": {}
      },
      "source": [
        "true_mean = 74; true_stdev = 5.5; nsamples = 3\n",
        "samples = stats.norm.rvs(size=nsamples, scale=true_stdev, loc=true_mean)   # Simulate \n",
        "#print(samples)\n",
        "(mu, sigma) = stats.norm.fit(samples)   # now, fit the simulated data\n",
        "print(\"Average = {0:.2g}, STDEV = {1:.2g}\".format(mu, sigma))\n",
        "ax = sns.distplot(samples, bins=10, kde=False, fit=stats.norm)   # plot it\n",
        "ax.set_xlabel(\"Step Size /nm\"); ax.set_ylabel(\"Frequency\")\n",
        "plt.show()\n",
        "plt.rcParams[\"figure.figsize\"] = (8,3)    # adjust fig size if desired"
      ],
      "execution_count": null,
      "outputs": []
    },
    {
      "cell_type": "markdown",
      "metadata": {
        "id": "Z-x7ywfQfyNB",
        "colab_type": "text"
      },
      "source": [
        "* What can we conclude about the effect of sample size?"
      ]
    },
    {
      "cell_type": "markdown",
      "metadata": {
        "id": "_T807wBEww-t",
        "colab_type": "text"
      },
      "source": [
        "## Chemical shift data\n",
        "\n",
        "<img  align=\"right\" src=\"http://www.bmrb.wisc.edu/metabolomics/standards/5_Hydroxy_L_tryptophan/lit/439280.png\" alt=\"Trp\" width=\"200\"/>\n",
        "* NMR chemical shifts are sensitive to the local chemical environment. For a tryptophan (Trp) residue in a protein, the chemical shift of the H indole proton H$\\epsilon$<sup>1</sup> is generally well separated from other <sup>1</sup>H signals in the molecule and can serve as useful probes of protein foldedness, flexibility and ligand binding.\n",
        "\n",
        "* Chemical shift statistics in general are used to facilitate assignments and to determine whether the local environment is unusual. \n",
        "\n",
        "* Chemical shift data has been tabulated by the NMR community at the BMRB (_BioMagResBank_, Biological Magnetic Resonance Data Bank; http://www.bmrb.wisc.edu/). Because chemical shift depends on structure, and structure depends on energy (thermodynamics), one might expect the chemical shifts for a particular atom type to exhibit a Normal (Gaussian) distribution around some mean value. We will test that assumption in this Jupyter notebook.\n",
        "\n",
        "* <img align=\"right\" alt=\"BMRB data TrpHE1\" src=\"https://raw.githubusercontent.com/mpfoster/Biochem5721/master/images/bmrb-trp-he1.png\" width=\"400\"/> The protein dataset at the BMRB consists of a series of 'csv' (comma-separated-value) plain text files. For the Trp indole <sup>1</sup>H the file can be found at this URL: http://www.bmrb.wisc.edu/ftp/pub/bmrb/statistics/chem_shifts/full/devise/TRP_HE1_sel.txt. \n",
        "\n",
        "* The first # is the BMRB entry ID; the next to last number is the chemical shift of the H$\\epsilon$1 nucleus.\n",
        "\n",
        "* We will proceed by:\n",
        "  1. Importing the required tools/packages\n",
        "  1. Dowloading the data from the web in to a Python *data frame* using Pandas\n",
        "  1. Performing statistical analysis to determine Mean and STDEV"
      ]
    },
    {
      "cell_type": "code",
      "metadata": {
        "colab_type": "code",
        "id": "QC2UHjqHRvAo",
        "colab": {}
      },
      "source": [
        "# Chemical shift histogram\n",
        "# download chemical shift data from BMRB:\n",
        "# http://www.bmrb.wisc.edu/ftp/pub/bmrb/statistics/chem_shifts/full/devise/TRP_HE1_sel.txt\n",
        "# import requirements:\n",
        "import pandas as pd\n",
        "import matplotlib.pyplot as plt\n",
        "from scipy import stats\n",
        "import seaborn as sns\n",
        "import requests"
      ],
      "execution_count": null,
      "outputs": []
    },
    {
      "cell_type": "code",
      "metadata": {
        "colab_type": "code",
        "id": "nIxO3kSTSVns",
        "colab": {}
      },
      "source": [
        "# load data into a dataframe:\n",
        "data_url='http://www.bmrb.wisc.edu/ftp/pub/bmrb/statistics/chem_shifts/full/devise/TRP_HE1_sel.txt'\n",
        "df = pd.read_csv(data_url,\n",
        "    names=(\"id\",\"mol\",\"282\",\"resi\",\"resn\",\"name\",\"element\",\"shift\",\"n\")\n",
        "    )  #data\n",
        "df.head()"
      ],
      "execution_count": null,
      "outputs": []
    },
    {
      "cell_type": "code",
      "metadata": {
        "colab_type": "code",
        "id": "BrcAlOiBcCpx",
        "colab": {}
      },
      "source": [
        "df.describe()"
      ],
      "execution_count": null,
      "outputs": []
    },
    {
      "cell_type": "code",
      "metadata": {
        "colab_type": "code",
        "id": "YetODytfbuCg",
        "colab": {}
      },
      "source": [
        "df.hist('shift', bins=100)"
      ],
      "execution_count": null,
      "outputs": []
    },
    {
      "cell_type": "code",
      "metadata": {
        "colab_type": "code",
        "id": "a4Rq-f4rSYF3",
        "colab": {}
      },
      "source": [
        "df.hist('shift', range=(7,13), bins=100)\n",
        "plt.show()"
      ],
      "execution_count": null,
      "outputs": []
    },
    {
      "cell_type": "code",
      "metadata": {
        "colab_type": "code",
        "id": "TecBSfWZdsVR",
        "colab": {}
      },
      "source": [
        "#samples = df['shift'].between(7, 13).tolist()\n",
        "df2 = df.loc[(df['shift'] > 7) & (df['shift'] < 13)]\n",
        "samples = df2['shift'].tolist()\n",
        "#op = df.loc[(df['Height'] > 70) & (df['Weight'] > 160)]"
      ],
      "execution_count": null,
      "outputs": []
    },
    {
      "cell_type": "code",
      "metadata": {
        "colab_type": "code",
        "id": "BK_lpSU-lHdl",
        "colab": {}
      },
      "source": [
        "r = stats.describe(samples)\n",
        "r"
      ],
      "execution_count": null,
      "outputs": []
    },
    {
      "cell_type": "code",
      "metadata": {
        "colab_type": "code",
        "id": "h7gddHSFdngo",
        "colab": {}
      },
      "source": [
        "(mu, sigma) = stats.norm.fit(samples)\n",
        "print(\"Chemical Shift Mean: {0:.2f} ± {1:.2f} ppm\".format(mu, sigma))"
      ],
      "execution_count": null,
      "outputs": []
    },
    {
      "cell_type": "markdown",
      "metadata": {
        "colab_type": "text",
        "id": "Pc438YZNj0o_"
      },
      "source": [
        "\"Normal\" probability density function: $f(x)= \\frac{exp(-x^2/2)}{\\sqrt{ 2 \\pi}}$"
      ]
    },
    {
      "cell_type": "code",
      "metadata": {
        "colab_type": "code",
        "id": "GXf6Y9D6fszx",
        "colab": {}
      },
      "source": [
        "ax = sns.distplot(samples, bins=100, kde=False, fit=stats.norm)\n",
        "ax.set_xlim([7,14])\n",
        "#plt.savefig('figure', dpi=150)"
      ],
      "execution_count": null,
      "outputs": []
    },
    {
      "cell_type": "code",
      "metadata": {
        "colab_type": "code",
        "id": "fwPk1jSWVNcq",
        "colab": {}
      },
      "source": [
        "ax = sns.distplot(samples, bins=100, kde=False, fit=stats.laplace)\n",
        "ax.set_xlim([7,14])\n"
      ],
      "execution_count": null,
      "outputs": []
    },
    {
      "cell_type": "markdown",
      "metadata": {
        "colab_type": "text",
        "id": "bt1tbR6Ydtwt"
      },
      "source": [
        "## *So, what can we conclude about the distributions of Trp HE1 shifts?*"
      ]
    }
  ]
}