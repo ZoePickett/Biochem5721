{
  "nbformat": 4,
  "nbformat_minor": 0,
  "metadata": {
    "colab": {
      "name": "02-distributions-5721.ipynb",
      "provenance": [],
      "include_colab_link": true
    },
    "kernelspec": {
      "display_name": "Python 3",
      "language": "python",
      "name": "python3"
    },
    "language_info": {
      "codemirror_mode": {
        "name": "ipython",
        "version": 3
      },
      "file_extension": ".py",
      "mimetype": "text/x-python",
      "name": "python",
      "nbconvert_exporter": "python",
      "pygments_lexer": "ipython3",
      "version": "3.6.8"
    }
  },
  "cells": [
    {
      "cell_type": "markdown",
      "metadata": {
        "id": "view-in-github",
        "colab_type": "text"
      },
      "source": [
        "<a href=\"https://colab.research.google.com/github/mpfoster/Biochem5721/blob/master/02_distributions_5721.ipynb\" target=\"_parent\"><img src=\"https://colab.research.google.com/assets/colab-badge.svg\" alt=\"Open In Colab\"/></a>"
      ]
    },
    {
      "cell_type": "markdown",
      "metadata": {
        "id": "sIaE-bWzww-n",
        "colab_type": "text"
      },
      "source": [
        "# Biochem 5721 -- Reading data and analyzing distributions"
      ]
    },
    {
      "cell_type": "markdown",
      "metadata": {
        "id": "slzBN7Jvww-p",
        "colab_type": "text"
      },
      "source": [
        "## Ensemble properties from averaging of large ensembles\n",
        "<img  align=\"right\" src=\"https://raw.githubusercontent.com/mpfoster/Biochem5721/master/images/kinesin-cartoon.png\" alt=\"Kinesin\" width=\"500\"/>\n",
        "\n",
        "* We saw in Video 1 that molecular motors walking on microtubules are responsible for morphological changes in a cell, and for enabling cell division. In the case of kinesin, we envision a dimeric molecule that makes stepping motions as ATP in the microtubule binding domains is hydrolyzed to ADP, dicusing a conformational change. \n",
        "* We also saw that single-molecule fluorecent methods could be used to visualize the movement of individual kinesin molecules on microtubules.\n",
        "* Important questions about molecular motor function include:\n",
        "  1. How fast can these motors travel?\n",
        "  1. Do they move by a _stepping_ motion, or more like an _inch-worm_?\n",
        "  1. How far do they move in a single stroke?\n",
        "  1. How efficient is the motor (how many steps per ATP hydrolyzed) per step or per nm?\n",
        "  1. How processive is it (how often does it fall off)?\n",
        "\n",
        "* Biochemists have long studied these and related questions using traditional _ensemble_ approaches, which measure the **average** overall behavior of _many, many_ molecules (~10<sup>-12</sup> mol ~10<sup>11</sup> molecules).\n",
        "* The accuracy and precision of those measurements depends on the sensitivity of the available technology, but also on intrinsict variability of the molecules themselves.\n"
      ]
    },
    {
      "cell_type": "markdown",
      "metadata": {
        "id": "t2SNdL-m3grc",
        "colab_type": "text"
      },
      "source": [
        "# Single molecule methods reveal variation within the ensemble.\n",
        "* Highly sensitive single molecule fluorescence techniques allow measurement of the position of indivisual molecules (esp. TIRF microscopy, Total Internal Reflectance). \n",
        "\n",
        "<img  alt=\"Hand-over-hand & Inchworm Models\" src=\"https://raw.githubusercontent.com/mpfoster/Biochem5721/master/images/myosin-stepping.png\" width=\"800\"/>\n",
        "* In single molecule experiments using another motor, myosin, \n",
        "Yildiz *et al.*(2003) *Science* 300(5628):pp. 2061-2065, DOI: 10.1126/science.1084398 (https://science-sciencemag-org.proxy.lib.ohio-state.edu/content/300/5628/2061) achieved high spatial resolution by immobilizing actin substrates (for example by stretching it between two small particles), and then observing the position of a fluorescent tag attached to one of the myosin \"legs\". A representative movie can be found at [this link](https://raw.githubusercontent.com/mpfoster/Biochem5721/master/images/myosin-time-course.mov). (A video describing this and related research is here: https://www.youtube.com/watch?v=MKlyi4euq50) \n"
      ]
    },
    {
      "cell_type": "markdown",
      "metadata": {
        "id": "-UNmI3Uc_c1n",
        "colab_type": "text"
      },
      "source": [
        "\n",
        "<img align=\"right\" alt=\"Stepping Plot\" src=\"https://raw.githubusercontent.com/mpfoster/Biochem5721/master/images/myosin-step-plot.png\" width=\"600\"/>\n",
        "\n",
        "* By measuring the positions of individual molecules over time, the authors were able to measure the movements of individual myosin dimers (3 shown in the plot)\n",
        "* Step sizes were measured for 32 molecules for a total of 231 steps over ~100s\n",
        "* Step sizes were binned and plotted as a histogram (number of steps of a given length) \n",
        "\n",
        "### _Observations?_ \n",
        "### _Conclusions?_\n",
        "<!-- \n",
        "Obs:\n",
        "1. Average step size ~74 nm, not inching; stdev = 5 nm\n",
        "2. range of step sizes was ~30 nm (60-90)\n",
        "3. Distribution looks more or less Gaussian (normal distribution)\n",
        "\n",
        "Conclusions:\n",
        "1. Step-size is ~2x translocation, so stepping\n",
        "2. Step size is not uniform, or constant!\n",
        "3. Normal distribution suggests a relatively simple thermodynamic explanation for the variation in step size\n",
        " -->\n",
        "\n"
      ]
    },
    {
      "cell_type": "markdown",
      "metadata": {
        "id": "KnXWVGy1IfSS",
        "colab_type": "text"
      },
      "source": [
        "## Statistical measures are important in experimental sciences\n",
        "* Measurements of molecular properties are subject to variability due to limitations of measurements, and variation of the phenomenon (both real and artificial).\n",
        "* This makes it critical to define the precision with which we _know_ something.\n",
        "* Most commonly, by computing the **mean**, $\\large \\bar{x} = \\frac{\\sum_{1}^{N}x}{N} $\n",
        "and (sample) **standard deviation** $\\large \\sigma = \\sqrt{\\frac{\\sum_{1}^{N}(x-\\bar{x})^2}{N-1}}$\n",
        "<img align=\"right\" alt=\"Bell Curve\" src=\"https://raw.githubusercontent.com/mpfoster/Biochem5721/master/images/normal-distrib.png\" width=\"400\"/>\n",
        "* These values are most commonly interpreted in the context of an *assumed* **Normal Distribution**\n",
        "  * In a Normal Distribution, the mean $\\bar{x}$ is the *most probable* value, and $\\sigma$ describes the width of the distribution. \n",
        "  * 68% of the data are within $1\\sigma$, 95% within $2\\sigma$. So, differenfes $>2\\sigma$ are often considered significant\n",
        "\n",
        "* Lets compute these by hand for a small sample: [76.1, 72.6, 73.2]"
      ]
    },
    {
      "cell_type": "code",
      "metadata": {
        "id": "HjhsgJjHlJGO",
        "colab_type": "code",
        "colab": {
          "base_uri": "https://localhost:8080/",
          "height": 199
        },
        "outputId": "f97a29d1-4dfe-4c25-d10e-f25937d747ba"
      },
      "source": [
        "# mean: sum the values and divide by the number of values:\n",
        "mean = <code-here>\n",
        "mean"
      ],
      "execution_count": 71,
      "outputs": [
        {
          "output_type": "error",
          "ename": "AttributeError",
          "evalue": "ignored",
          "traceback": [
            "\u001b[0;31m---------------------------------------------------------------------------\u001b[0m",
            "\u001b[0;31mAttributeError\u001b[0m                            Traceback (most recent call last)",
            "\u001b[0;32m<ipython-input-71-178085adbce0>\u001b[0m in \u001b[0;36m<module>\u001b[0;34m()\u001b[0m\n\u001b[1;32m      3\u001b[0m \u001b[0mmean\u001b[0m \u001b[0;34m=\u001b[0m \u001b[0;34m(\u001b[0m\u001b[0;36m76.15148658\u001b[0m\u001b[0;34m+\u001b[0m\u001b[0;36m72.58087281\u001b[0m\u001b[0;34m+\u001b[0m\u001b[0;36m73.23210976\u001b[0m\u001b[0;34m)\u001b[0m\u001b[0;34m/\u001b[0m\u001b[0;36m3\u001b[0m\u001b[0;34m\u001b[0m\u001b[0;34m\u001b[0m\u001b[0m\n\u001b[1;32m      4\u001b[0m \u001b[0mmean\u001b[0m\u001b[0;34m\u001b[0m\u001b[0;34m\u001b[0m\u001b[0m\n\u001b[0;32m----> 5\u001b[0;31m \u001b[0ma\u001b[0m\u001b[0;34m.\u001b[0m\u001b[0mdescribe\u001b[0m\u001b[0;34m(\u001b[0m\u001b[0;34m)\u001b[0m\u001b[0;34m\u001b[0m\u001b[0;34m\u001b[0m\u001b[0m\n\u001b[0m",
            "\u001b[0;31mAttributeError\u001b[0m: 'list' object has no attribute 'describe'"
          ]
        }
      ]
    },
    {
      "cell_type": "code",
      "metadata": {
        "id": "M0Jm7XzElkAB",
        "colab_type": "code",
        "colab": {
          "base_uri": "https://localhost:8080/",
          "height": 34
        },
        "outputId": "a0e77040-fb21-4b90-d439-e748a5bf17b1"
      },
      "source": [
        "'''\n",
        " stdev: for each value, subtract from mean, square it, sum to the others, divide by N-1 and take the square root\n",
        "'''\n",
        "stdev = <code-here>    # compute it\n",
        "stdev   # print it"
      ],
      "execution_count": 64,
      "outputs": [
        {
          "output_type": "execute_result",
          "data": {
            "text/plain": [
              "1.9039432764659772"
            ]
          },
          "metadata": {
            "tags": []
          },
          "execution_count": 64
        }
      ]
    },
    {
      "cell_type": "code",
      "metadata": {
        "id": "Rcq5uxEDmeGb",
        "colab_type": "code",
        "colab": {
          "base_uri": "https://localhost:8080/",
          "height": 54
        },
        "outputId": "b59f9943-5fae-4d50-d563-7df4ca3fbdfb"
      },
      "source": [
        "# Let's use Python libraries\n",
        "# make a list of our values:\n",
        "list = [ , ]  # square brackets, separate values by \",\"\n",
        "from scipy import stats\n",
        "stats.describe(a)"
      ],
      "execution_count": 72,
      "outputs": [
        {
          "output_type": "execute_result",
          "data": {
            "text/plain": [
              "DescribeResult(nobs=3, minmax=(72, 76), mean=73.66666666666667, variance=4.333333333333333, skewness=0.5280049792181795, kurtosis=-1.5000000000000056)"
            ]
          },
          "metadata": {
            "tags": []
          },
          "execution_count": 72
        }
      ]
    },
    {
      "cell_type": "markdown",
      "metadata": {
        "id": "TMBmqaUgVtkE",
        "colab_type": "text"
      },
      "source": [
        "## Let's simulate a normal distribution!\n",
        "Yildiz *et al.* measured the step size of myosin motors from N = 231 samples. Assuming we know the answer, we can simulate the effect of sample size on the accuracy of the measurement and analysis. For example, what if they made the minimum measurements (3)? Another 231? 10X?"
      ]
    },
    {
      "cell_type": "code",
      "metadata": {
        "id": "tehN2ZVlZUfQ",
        "colab_type": "code",
        "colab": {}
      },
      "source": [
        "import matplotlib.pyplot as plt\n",
        "%matplotlib inline\n",
        "from scipy import stats # scipy statistical tools\n",
        "import seaborn as sns   # this is a nice package for plotting and some stats analysis\n",
        "plt.style.use('ggplot')   # nice style plots"
      ],
      "execution_count": 85,
      "outputs": []
    },
    {
      "cell_type": "code",
      "metadata": {
        "id": "CAsucfvwozZ9",
        "colab_type": "code",
        "colab": {
          "base_uri": "https://localhost:8080/",
          "height": 245
        },
        "outputId": "9b743638-c551-4d87-cc34-6d2d007edfe3"
      },
      "source": [
        "true_mean = 74; true_stdev = 5.5; nsamples = 3\n",
        "samples = stats.norm.rvs(size=nsamples, scale=true_stdev, loc=true_mean)   # Simulate \n",
        "#print(samples)\n",
        "(mu, sigma) = stats.norm.fit(samples)   # now, fit the simulated data\n",
        "print(\"Average = {0:.2g}, STDEV = {1:.2g}\".format(mu, sigma))\n",
        "ax = sns.distplot(samples, bins=10, kde=False, fit=stats.norm)   # plot it\n",
        "ax.set_xlabel(\"Step Size /nm\"); ax.set_ylabel(\"Frequency\")\n",
        "plt.show()\n",
        "plt.rcParams[\"figure.figsize\"] = (8,3)    # adjust fig size if desired"
      ],
      "execution_count": 96,
      "outputs": [
        {
          "output_type": "stream",
          "text": [
            "Average = 78, STDEV = 1.6\n"
          ],
          "name": "stdout"
        },
        {
          "output_type": "display_data",
          "data": {
            "image/png": "[encoded data removed]",
            "text/plain": [
              "<Figure size 576x216 with 1 Axes>"
            ]
          },
          "metadata": {
            "tags": []
          }
        }
      ]
    },
    {
      "cell_type": "markdown",
      "metadata": {
        "id": "Z-x7ywfQfyNB",
        "colab_type": "text"
      },
      "source": [
        "* What can we conclude about the effect of sample size?"
      ]
    },
    {
      "cell_type": "markdown",
      "metadata": {
        "id": "_T807wBEww-t",
        "colab_type": "text"
      },
      "source": [
        "## Chemical shift data\n",
        "\n",
        "<img  align=\"right\" src=\"http://www.bmrb.wisc.edu/metabolomics/standards/5_Hydroxy_L_tryptophan/lit/439280.png\" alt=\"Trp\" width=\"200\"/>\n",
        "* NMR chemical shifts are sensitive to the local chemical environment. For a tryptophan (Trp) residue in a protein, the chemical shift of the H indole proton H$\\epsilon$<sup>1</sup> is generally well separated from other <sup>1</sup>H signals in the molecule and can serve as useful probes of protein foldedness, flexibility and ligand binding.\n",
        "\n",
        "* Chemical shift statistics in general are used to facilitate assignments and to determine whether the local environment is unusual. \n",
        "\n",
        "* Chemical shift data has been tabulated by the NMR community at the BMRB (_BioMagResBank_, Biological Magnetic Resonance Data Bank; http://www.bmrb.wisc.edu/). Because chemical shift depends on structure, and structure depends on energy (thermodynamics), one might expect the chemical shifts for a particular atom type to exhibit a Normal (Gaussian) distribution around some mean value. We will test that assumption in this Jupyter notebook.\n",
        "\n",
        "* <img align=\"right\" alt=\"BMRB data TrpHE1\" src=\"https://raw.githubusercontent.com/mpfoster/Biochem5721/master/images/bmrb-trp-he1.png\" width=\"400\"/> The protein dataset at the BMRB consists of a series of 'csv' (comma-separated-value) plain text files. For the Trp indole <sup>1</sup>H the file can be found at this URL: http://www.bmrb.wisc.edu/ftp/pub/bmrb/statistics/chem_shifts/full/devise/TRP_HE1_sel.txt. \n",
        "\n",
        "* The first # is the BMRB entry ID; the next to last number is the chemical shift of the H$\\epsilon$1 nucleus.\n",
        "\n",
        "* We will proceed by:\n",
        "  1. Importing the required tools/packages\n",
        "  1. Dowloading the data from the web in to a Python *data frame* using Pandas\n",
        "  1. Performing statistical analysis to determine Mean and STDEV"
      ]
    },
    {
      "cell_type": "code",
      "metadata": {
        "colab_type": "code",
        "id": "QC2UHjqHRvAo",
        "colab": {}
      },
      "source": [
        "# Chemical shift histogram\n",
        "# download chemical shift data from BMRB:\n",
        "# http://www.bmrb.wisc.edu/ftp/pub/bmrb/statistics/chem_shifts/full/devise/TRP_HE1_sel.txt\n",
        "# import requirements:\n",
        "import pandas as pd\n",
        "import matplotlib.pyplot as plt\n",
        "from scipy import stats\n",
        "import seaborn as sns\n",
        "import requests"
      ],
      "execution_count": 73,
      "outputs": []
    },
    {
      "cell_type": "code",
      "metadata": {
        "colab_type": "code",
        "id": "nIxO3kSTSVns",
        "colab": {
          "base_uri": "https://localhost:8080/",
          "height": 206
        },
        "outputId": "c78ac3c4-5077-4652-b820-4e7a293e749b"
      },
      "source": [
        "# load data into a dataframe:\n",
        "data_url='http://www.bmrb.wisc.edu/ftp/pub/bmrb/statistics/chem_shifts/full/devise/TRP_HE1_sel.txt'\n",
        "df = pd.read_csv(data_url,\n",
        "    names=(\"id\",\"mol\",\"282\",\"resi\",\"resn\",\"name\",\"element\",\"shift\",\"n\")\n",
        "    )  #data\n",
        "df.head()"
      ],
      "execution_count": 74,
      "outputs": [
        {
          "output_type": "execute_result",
          "data": {
            "text/html": [
              "<div>\n",
              "<style scoped>\n",
              "    .dataframe tbody tr th:only-of-type {\n",
              "        vertical-align: middle;\n",
              "    }\n",
              "\n",
              "    .dataframe tbody tr th {\n",
              "        vertical-align: top;\n",
              "    }\n",
              "\n",
              "    .dataframe thead th {\n",
              "        text-align: right;\n",
              "    }\n",
              "</style>\n",
              "<table border=\"1\" class=\"dataframe\">\n",
              "  <thead>\n",
              "    <tr style=\"text-align: right;\">\n",
              "      <th></th>\n",
              "      <th>id</th>\n",
              "      <th>mol</th>\n",
              "      <th>282</th>\n",
              "      <th>resi</th>\n",
              "      <th>resn</th>\n",
              "      <th>name</th>\n",
              "      <th>element</th>\n",
              "      <th>shift</th>\n",
              "      <th>n</th>\n",
              "    </tr>\n",
              "  </thead>\n",
              "  <tbody>\n",
              "    <tr>\n",
              "      <th>0</th>\n",
              "      <td>15835</td>\n",
              "      <td>protein</td>\n",
              "      <td>282</td>\n",
              "      <td>149</td>\n",
              "      <td>TRP</td>\n",
              "      <td>HE1</td>\n",
              "      <td>H</td>\n",
              "      <td>-1.2790</td>\n",
              "      <td>1</td>\n",
              "    </tr>\n",
              "    <tr>\n",
              "      <th>1</th>\n",
              "      <td>36103</td>\n",
              "      <td>protein</td>\n",
              "      <td>282</td>\n",
              "      <td>32</td>\n",
              "      <td>TRP</td>\n",
              "      <td>HE1</td>\n",
              "      <td>H</td>\n",
              "      <td>4.6900</td>\n",
              "      <td>1</td>\n",
              "    </tr>\n",
              "    <tr>\n",
              "      <th>2</th>\n",
              "      <td>6934</td>\n",
              "      <td>protein</td>\n",
              "      <td>282</td>\n",
              "      <td>127</td>\n",
              "      <td>TRP</td>\n",
              "      <td>HE1</td>\n",
              "      <td>H</td>\n",
              "      <td>5.0000</td>\n",
              "      <td>4</td>\n",
              "    </tr>\n",
              "    <tr>\n",
              "      <th>3</th>\n",
              "      <td>17246</td>\n",
              "      <td>protein</td>\n",
              "      <td>282</td>\n",
              "      <td>65</td>\n",
              "      <td>TRP</td>\n",
              "      <td>HE1</td>\n",
              "      <td>H</td>\n",
              "      <td>5.0290</td>\n",
              "      <td>1</td>\n",
              "    </tr>\n",
              "    <tr>\n",
              "      <th>4</th>\n",
              "      <td>16933</td>\n",
              "      <td>protein</td>\n",
              "      <td>282</td>\n",
              "      <td>59</td>\n",
              "      <td>TRP</td>\n",
              "      <td>HE1</td>\n",
              "      <td>H</td>\n",
              "      <td>5.1154</td>\n",
              "      <td>1</td>\n",
              "    </tr>\n",
              "  </tbody>\n",
              "</table>\n",
              "</div>"
            ],
            "text/plain": [
              "      id      mol  282  resi resn name element   shift  n\n",
              "0  15835  protein  282   149  TRP  HE1       H -1.2790  1\n",
              "1  36103  protein  282    32  TRP  HE1       H  4.6900  1\n",
              "2   6934  protein  282   127  TRP  HE1       H  5.0000  4\n",
              "3  17246  protein  282    65  TRP  HE1       H  5.0290  1\n",
              "4  16933  protein  282    59  TRP  HE1       H  5.1154  1"
            ]
          },
          "metadata": {
            "tags": []
          },
          "execution_count": 74
        }
      ]
    },
    {
      "cell_type": "code",
      "metadata": {
        "colab_type": "code",
        "id": "BrcAlOiBcCpx",
        "colab": {
          "base_uri": "https://localhost:8080/",
          "height": 300
        },
        "outputId": "7211c6aa-8d76-42d3-da31-5462b16daaaa"
      },
      "source": [
        "df.describe()"
      ],
      "execution_count": 75,
      "outputs": [
        {
          "output_type": "execute_result",
          "data": {
            "text/html": [
              "<div>\n",
              "<style scoped>\n",
              "    .dataframe tbody tr th:only-of-type {\n",
              "        vertical-align: middle;\n",
              "    }\n",
              "\n",
              "    .dataframe tbody tr th {\n",
              "        vertical-align: top;\n",
              "    }\n",
              "\n",
              "    .dataframe thead th {\n",
              "        text-align: right;\n",
              "    }\n",
              "</style>\n",
              "<table border=\"1\" class=\"dataframe\">\n",
              "  <thead>\n",
              "    <tr style=\"text-align: right;\">\n",
              "      <th></th>\n",
              "      <th>id</th>\n",
              "      <th>282</th>\n",
              "      <th>resi</th>\n",
              "      <th>shift</th>\n",
              "    </tr>\n",
              "  </thead>\n",
              "  <tbody>\n",
              "    <tr>\n",
              "      <th>count</th>\n",
              "      <td>9133.000000</td>\n",
              "      <td>9133.0</td>\n",
              "      <td>9133.000000</td>\n",
              "      <td>9133.000000</td>\n",
              "    </tr>\n",
              "    <tr>\n",
              "      <th>mean</th>\n",
              "      <td>15517.084857</td>\n",
              "      <td>282.0</td>\n",
              "      <td>58.873426</td>\n",
              "      <td>10.091812</td>\n",
              "    </tr>\n",
              "    <tr>\n",
              "      <th>std</th>\n",
              "      <td>9032.072878</td>\n",
              "      <td>0.0</td>\n",
              "      <td>47.376556</td>\n",
              "      <td>1.452586</td>\n",
              "    </tr>\n",
              "    <tr>\n",
              "      <th>min</th>\n",
              "      <td>5.000000</td>\n",
              "      <td>282.0</td>\n",
              "      <td>1.000000</td>\n",
              "      <td>-1.279000</td>\n",
              "    </tr>\n",
              "    <tr>\n",
              "      <th>25%</th>\n",
              "      <td>6782.000000</td>\n",
              "      <td>282.0</td>\n",
              "      <td>24.000000</td>\n",
              "      <td>9.910000</td>\n",
              "    </tr>\n",
              "    <tr>\n",
              "      <th>50%</th>\n",
              "      <td>16195.000000</td>\n",
              "      <td>282.0</td>\n",
              "      <td>47.000000</td>\n",
              "      <td>10.130000</td>\n",
              "    </tr>\n",
              "    <tr>\n",
              "      <th>75%</th>\n",
              "      <td>19483.000000</td>\n",
              "      <td>282.0</td>\n",
              "      <td>84.000000</td>\n",
              "      <td>10.355000</td>\n",
              "    </tr>\n",
              "    <tr>\n",
              "      <th>max</th>\n",
              "      <td>50409.000000</td>\n",
              "      <td>282.0</td>\n",
              "      <td>392.000000</td>\n",
              "      <td>131.711000</td>\n",
              "    </tr>\n",
              "  </tbody>\n",
              "</table>\n",
              "</div>"
            ],
            "text/plain": [
              "                 id     282         resi        shift\n",
              "count   9133.000000  9133.0  9133.000000  9133.000000\n",
              "mean   15517.084857   282.0    58.873426    10.091812\n",
              "std     9032.072878     0.0    47.376556     1.452586\n",
              "min        5.000000   282.0     1.000000    -1.279000\n",
              "25%     6782.000000   282.0    24.000000     9.910000\n",
              "50%    16195.000000   282.0    47.000000    10.130000\n",
              "75%    19483.000000   282.0    84.000000    10.355000\n",
              "max    50409.000000   282.0   392.000000   131.711000"
            ]
          },
          "metadata": {
            "tags": []
          },
          "execution_count": 75
        }
      ]
    },
    {
      "cell_type": "code",
      "metadata": {
        "colab_type": "code",
        "id": "YetODytfbuCg",
        "colab": {
          "base_uri": "https://localhost:8080/",
          "height": 350
        },
        "outputId": "03720368-a385-4770-edc8-e02f818939ee"
      },
      "source": [
        "df.hist('shift', bins=100)"
      ],
      "execution_count": 76,
      "outputs": [
        {
          "output_type": "execute_result",
          "data": {
            "text/plain": [
              "array([[<matplotlib.axes._subplots.AxesSubplot object at 0x7ff8fb55acf8>]],\n",
              "      dtype=object)"
            ]
          },
          "metadata": {
            "tags": []
          },
          "execution_count": 76
        },
        {
          "output_type": "display_data",
          "data": {
            "image/png": "[encoded data removed]",
            "text/plain": [
              "<Figure size 400x300 with 1 Axes>"
            ]
          },
          "metadata": {
            "tags": []
          }
        }
      ]
    },
    {
      "cell_type": "code",
      "metadata": {
        "colab_type": "code",
        "id": "a4Rq-f4rSYF3",
        "colab": {
          "base_uri": "https://localhost:8080/",
          "height": 315
        },
        "outputId": "323f8503-c90c-4edf-b968-2071058af5b2"
      },
      "source": [
        "df.hist('shift', range=(7,13), bins=100)\n",
        "plt.show()"
      ],
      "execution_count": 83,
      "outputs": [
        {
          "output_type": "display_data",
          "data": {
            "image/png": "[encoded data removed]",
            "text/plain": [
              "<Figure size 400x300 with 1 Axes>"
            ]
          },
          "metadata": {
            "tags": []
          }
        }
      ]
    },
    {
      "cell_type": "code",
      "metadata": {
        "colab_type": "code",
        "id": "TecBSfWZdsVR",
        "colab": {}
      },
      "source": [
        "#samples = df['shift'].between(7, 13).tolist()\n",
        "df2 = df.loc[(df['shift'] > 7) & (df['shift'] < 13)]\n",
        "samples = df2['shift'].tolist()\n",
        "#op = df.loc[(df['Height'] > 70) & (df['Weight'] > 160)]"
      ],
      "execution_count": 78,
      "outputs": []
    },
    {
      "cell_type": "code",
      "metadata": {
        "colab_type": "code",
        "id": "BK_lpSU-lHdl",
        "colab": {
          "base_uri": "https://localhost:8080/",
          "height": 54
        },
        "outputId": "3217100c-d8b1-438a-a252-c7fd46a8449b"
      },
      "source": [
        "r = stats.describe(samples)\n",
        "r"
      ],
      "execution_count": 79,
      "outputs": [
        {
          "output_type": "execute_result",
          "data": {
            "text/plain": [
              "DescribeResult(nobs=9036, minmax=(7.0089999999999995, 12.94), mean=10.117424140770252, variance=0.2967401592759905, skewness=-0.6739311563657784, kurtosis=5.411165638404471)"
            ]
          },
          "metadata": {
            "tags": []
          },
          "execution_count": 79
        }
      ]
    },
    {
      "cell_type": "code",
      "metadata": {
        "colab_type": "code",
        "id": "h7gddHSFdngo",
        "colab": {
          "base_uri": "https://localhost:8080/",
          "height": 34
        },
        "outputId": "d687dd55-266b-4174-d795-0c57e7ef04ea"
      },
      "source": [
        "(mu, sigma) = stats.norm.fit(samples)\n",
        "print(\"Chemical Shift Mean: {0:.2f} ± {1:.2f} ppm\".format(mu, sigma))"
      ],
      "execution_count": 80,
      "outputs": [
        {
          "output_type": "stream",
          "text": [
            "Chemical Shift Mean: 10.12 ± 0.54 ppm\n"
          ],
          "name": "stdout"
        }
      ]
    },
    {
      "cell_type": "markdown",
      "metadata": {
        "colab_type": "text",
        "id": "Pc438YZNj0o_"
      },
      "source": [
        "\"Normal\" probability density function: $f(x)= \\frac{exp(-x^2/2)}{\\sqrt{ 2 \\pi}}$"
      ]
    },
    {
      "cell_type": "code",
      "metadata": {
        "colab_type": "code",
        "id": "GXf6Y9D6fszx",
        "colab": {
          "base_uri": "https://localhost:8080/",
          "height": 308
        },
        "outputId": "b65653d5-b1a5-457e-b089-cdec27e8ca86"
      },
      "source": [
        "ax = sns.distplot(samples, bins=100, kde=False, fit=stats.norm)\n",
        "ax.set_xlim([7,14])\n",
        "#plt.savefig('figure', dpi=150)"
      ],
      "execution_count": 81,
      "outputs": [
        {
          "output_type": "execute_result",
          "data": {
            "text/plain": [
              "(7.0, 14.0)"
            ]
          },
          "metadata": {
            "tags": []
          },
          "execution_count": 81
        },
        {
          "output_type": "display_data",
          "data": {
            "image/png": "[encoded data removed]",
            "text/plain": [
              "<Figure size 400x300 with 1 Axes>"
            ]
          },
          "metadata": {
            "tags": []
          }
        }
      ]
    },
    {
      "cell_type": "code",
      "metadata": {
        "colab_type": "code",
        "id": "fwPk1jSWVNcq",
        "colab": {
          "base_uri": "https://localhost:8080/",
          "height": 308
        },
        "outputId": "8b2d01a8-01b5-4ea8-eb15-8b4de727739c"
      },
      "source": [
        "ax = sns.distplot(samples, bins=100, kde=False, fit=stats.laplace)\n",
        "ax.set_xlim([7,14])\n"
      ],
      "execution_count": 82,
      "outputs": [
        {
          "output_type": "execute_result",
          "data": {
            "text/plain": [
              "(7.0, 14.0)"
            ]
          },
          "metadata": {
            "tags": []
          },
          "execution_count": 82
        },
        {
          "output_type": "display_data",
          "data": {
            "image/png": "[encoded data removed]",
            "text/plain": [
              "<Figure size 400x300 with 1 Axes>"
            ]
          },
          "metadata": {
            "tags": []
          }
        }
      ]
    },
    {
      "cell_type": "markdown",
      "metadata": {
        "colab_type": "text",
        "id": "bt1tbR6Ydtwt"
      },
      "source": [
        "## *So, what can we conclude about the distributions of Trp HE1 shifts?*"
      ]
    }
  ]
}