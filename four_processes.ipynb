{
  "nbformat": 4,
  "nbformat_minor": 0,
  "metadata": {
    "colab": {
      "name": "four-processes.ipynb",
      "provenance": [],
      "authorship_tag": "ABX9TyMsgmFjcm7IdH6Ig2QbmHQd",
      "include_colab_link": true
    },
    "kernelspec": {
      "name": "python3",
      "display_name": "Python 3"
    }
  },
  "cells": [
    {
      "cell_type": "markdown",
      "metadata": {
        "id": "view-in-github",
        "colab_type": "text"
      },
      "source": [
        "<a href=\"https://colab.research.google.com/github/mpfoster/Biochem5721/blob/master/four_processes.ipynb\" target=\"_parent\"><img src=\"https://colab.research.google.com/assets/colab-badge.svg\" alt=\"Open In Colab\"/></a>"
      ]
    },
    {
      "cell_type": "markdown",
      "metadata": {
        "id": "wgHegLqCf2Pj",
        "colab_type": "text"
      },
      "source": [
        "# Four Constant-Variable Processes on Ideal Gasses\n",
        "*What can we say about q, w and $\\Delta$U?*\n",
        "<img align=\"right\" src=\"https://raw.githubusercontent.com/mpfoster/Biochem5721/master/images/tmol6-10.png\" width=\"400\"/><i><figcaption>TMOL 6.10 Heating a system under conditions of constant volume (left) or pressure (right).</figcaption></i>\n",
        "## 1. Constant Volume (an *isochoric*) process\n",
        "Start with _n_ molecules of a gas at\n",
        "($p_1, V_1, T_1$) in a cylinder. Hold constant its volume $V_1$. Now introduce an amount\n",
        "of heat $q$ by heating the cylinder reversibly. Heating increases the gas pressure\n",
        "and temperature to ($p_2, V_1, T_2$). \n",
        "$$w = ?$$\n",
        "$$q = ?$$\n",
        "$$\\Delta U = w + q = ?$$\n",
        "$$\\Delta S = ?$$\n",
        "\n",
        "### Considerations\n",
        "* Under constant V, what is work?\n",
        "* Under constant volume, where can *q* go?\n",
        "* How to determine *q*? \n"
      ]
    },
    {
      "cell_type": "markdown",
      "metadata": {
        "id": "3SMHWu5_f2F8",
        "colab_type": "text"
      },
      "source": [
        "### Answer\n",
        "..."
      ]
    },
    {
      "cell_type": "markdown",
      "metadata": {
        "id": "FMDZWuB4j1cA",
        "colab_type": "text"
      },
      "source": [
        "## 2. Constant Pressure (isobarric) process\n",
        "Start with *n* molecules of a gas at\n",
        "($p_1, V_1, T_1$). Apply a constant external pressure $p_{ext} = p_1$ to a movable piston\n",
        "reversibly. Transfer in an amount of heat q to increase the gas volume and temperature to ($p_1, V_2, T_2$). \n",
        "$$w = ?$$\n",
        "$$q = ?$$\n",
        "$$\\Delta U = w + q = ?$$\n",
        "$$\\Delta S = ?$$\n",
        "\n",
        "### Considerations\n",
        "* At constant pressure, what happens to gas\n"
      ]
    },
    {
      "cell_type": "markdown",
      "metadata": {
        "id": "AvTRm-sYsjyh",
        "colab_type": "text"
      },
      "source": [
        "### Ans\n",
        "..."
      ]
    },
    {
      "cell_type": "markdown",
      "metadata": {
        "id": "CdG-jFGVlO7h",
        "colab_type": "text"
      },
      "source": [
        "# 3. Constant Temperature (isothermal) process\n",
        "<img align=\"right\" src=\"https://raw.githubusercontent.com/mpfoster/Biochem5721/master/images/tmol6-9c.png\" width=\"500\"/><i><figcaption>TMOL 6.9. Isothermal expansion of a gas.</figcaption></i>\n",
        "Start with *n* molecules of an ideal gas at (p1, V1, T1). Hold constant its temperature at T1. Reversibly introduce an amount of heat q (by inputting radiation or combustion inside a\n",
        "cylinder that is contained in a fixed-temperature heat bath, for example) to increase the gas pressure and volume to (p2, V2, T1). Do this quasi-statically, so $p_{ext} = p_{int} = nRT_1/V$. \n",
        "$$w = ?$$\n",
        "$$q = ?$$\n",
        "$$\\Delta U = w + q = ?$$\n",
        "$$\\Delta S = ?$$"
      ]
    },
    {
      "cell_type": "markdown",
      "metadata": {
        "id": "nCA_Pi_rnJfu",
        "colab_type": "text"
      },
      "source": [
        "## 4. Adiabatic process. \n",
        "<img align=\"right\" src=\"https://raw.githubusercontent.com/mpfoster/Biochem5721/master/images/tmol6-9b.png\" width=\"500\"/><i><figcaption>TMOL 6.9. Adiabatic expansion of a gas.</figcaption></i>\n",
        "Start with *n* molecules of an ideal gas at\n",
        "(p1, V1, T1) in an insulated cylinder. No heat exchanges across it, $dq = 0$, so $dU = dw$. In an adiabatic process, reversibly change one variable (pressure, temperature, or volume) and the other two will change, to (p2, V2, T2). \n",
        "\n",
        "$$dU = CV dT \\quad\\text{and}\\quad dw = −pdV$$\n",
        "\n",
        "gives\n",
        "$$C_V dT = dU = −pdV$$ \n",
        "Substitute the ideal gas law $p = nRT/V$\n",
        "$$C_VdT = -\\frac{nRT}{V}dV$$\n",
        "Then, since for ideal gases $C_V$ is independent of T,\n",
        "$$C_V\\ln\\frac{T_2}{T_1}=-Rln\\frac{V_2}{V_1}$$\n"
      ]
    }
  ]
}